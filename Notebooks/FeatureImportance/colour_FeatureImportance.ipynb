{
 "cells": [
  {
   "cell_type": "code",
   "execution_count": 1,
   "metadata": {},
   "outputs": [],
   "source": [
    "from collections import OrderedDict\n",
    "\n",
    "import matplotlib.pyplot as plt\n",
    "import nivapy3 as nivapy\n",
    "import numpy as np\n",
    "import pandas as pd\n",
    "import seaborn as sn\n",
    "from sklearn.ensemble import RandomForestRegressor\n",
    "from sklearn.feature_selection import RFECV\n",
    "from sklearn.impute import SimpleImputer\n",
    "from sklearn.metrics import r2_score\n",
    "from sklearn.model_selection import RandomizedSearchCV, train_test_split\n",
    "from sklearn.preprocessing import StandardScaler\n",
    "\n",
    "%matplotlib inline\n",
    "plt.style.use(\"ggplot\")"
   ]
  },
  {
   "cell_type": "markdown",
   "metadata": {},
   "source": [
    "# Feature importances for WATExR\n",
    "\n",
    "Estimating feature importances using a Random Forest, for dependent variable growing season mean lake colour.\n",
    "\n",
    "# Read data"
   ]
  },
  {
   "cell_type": "code",
   "execution_count": 2,
   "metadata": {},
   "outputs": [
    {
     "data": {
      "text/html": [
       "<div>\n",
       "<style scoped>\n",
       "    .dataframe tbody tr th:only-of-type {\n",
       "        vertical-align: middle;\n",
       "    }\n",
       "\n",
       "    .dataframe tbody tr th {\n",
       "        vertical-align: top;\n",
       "    }\n",
       "\n",
       "    .dataframe thead th {\n",
       "        text-align: right;\n",
       "    }\n",
       "</style>\n",
       "<table border=\"1\" class=\"dataframe\">\n",
       "  <thead>\n",
       "    <tr style=\"text-align: right;\">\n",
       "      <th></th>\n",
       "      <th>pptn</th>\n",
       "      <th>temp</th>\n",
       "      <th>wind_speed</th>\n",
       "      <th>q</th>\n",
       "      <th>colour_lake</th>\n",
       "      <th>rain_day</th>\n",
       "      <th>pptn_intense</th>\n",
       "      <th>wind_under_q0.2</th>\n",
       "      <th>wind_under_q0.4</th>\n",
       "      <th>wind_over_q0.6</th>\n",
       "      <th>...</th>\n",
       "      <th>wind_speed_lag1</th>\n",
       "      <th>q_lag1</th>\n",
       "      <th>rain_day_lag1</th>\n",
       "      <th>pptn_intense_lag1</th>\n",
       "      <th>wind_under_q0.2_lag1</th>\n",
       "      <th>wind_under_q0.4_lag1</th>\n",
       "      <th>wind_over_q0.6_lag1</th>\n",
       "      <th>wind_over_q0.8_lag1</th>\n",
       "      <th>colour_lake_prevsummer</th>\n",
       "      <th>temp_prevsummer</th>\n",
       "    </tr>\n",
       "    <tr>\n",
       "      <th>date</th>\n",
       "      <th></th>\n",
       "      <th></th>\n",
       "      <th></th>\n",
       "      <th></th>\n",
       "      <th></th>\n",
       "      <th></th>\n",
       "      <th></th>\n",
       "      <th></th>\n",
       "      <th></th>\n",
       "      <th></th>\n",
       "      <th></th>\n",
       "      <th></th>\n",
       "      <th></th>\n",
       "      <th></th>\n",
       "      <th></th>\n",
       "      <th></th>\n",
       "      <th></th>\n",
       "      <th></th>\n",
       "      <th></th>\n",
       "      <th></th>\n",
       "      <th></th>\n",
       "    </tr>\n",
       "  </thead>\n",
       "  <tbody>\n",
       "    <tr>\n",
       "      <th>1982-10-31</th>\n",
       "      <td>460.222077</td>\n",
       "      <td>13.213326</td>\n",
       "      <td>3.790761</td>\n",
       "      <td>38.953613</td>\n",
       "      <td>26.666667</td>\n",
       "      <td>64.0</td>\n",
       "      <td>18.0</td>\n",
       "      <td>20.0</td>\n",
       "      <td>53.0</td>\n",
       "      <td>81.0</td>\n",
       "      <td>...</td>\n",
       "      <td>3.383978</td>\n",
       "      <td>96.553901</td>\n",
       "      <td>61.0</td>\n",
       "      <td>10.0</td>\n",
       "      <td>47.0</td>\n",
       "      <td>81.0</td>\n",
       "      <td>70.0</td>\n",
       "      <td>42.0</td>\n",
       "      <td>NaN</td>\n",
       "      <td>12.574081</td>\n",
       "    </tr>\n",
       "    <tr>\n",
       "      <th>1983-10-31</th>\n",
       "      <td>465.471465</td>\n",
       "      <td>13.281862</td>\n",
       "      <td>4.259239</td>\n",
       "      <td>48.269174</td>\n",
       "      <td>17.625000</td>\n",
       "      <td>62.0</td>\n",
       "      <td>14.0</td>\n",
       "      <td>13.0</td>\n",
       "      <td>48.0</td>\n",
       "      <td>95.0</td>\n",
       "      <td>...</td>\n",
       "      <td>3.732597</td>\n",
       "      <td>124.071782</td>\n",
       "      <td>68.0</td>\n",
       "      <td>14.0</td>\n",
       "      <td>43.0</td>\n",
       "      <td>72.0</td>\n",
       "      <td>77.0</td>\n",
       "      <td>48.0</td>\n",
       "      <td>26.666667</td>\n",
       "      <td>13.213326</td>\n",
       "    </tr>\n",
       "    <tr>\n",
       "      <th>1985-10-31</th>\n",
       "      <td>548.106384</td>\n",
       "      <td>12.447242</td>\n",
       "      <td>3.633152</td>\n",
       "      <td>94.198550</td>\n",
       "      <td>34.404762</td>\n",
       "      <td>75.0</td>\n",
       "      <td>18.0</td>\n",
       "      <td>29.0</td>\n",
       "      <td>72.0</td>\n",
       "      <td>71.0</td>\n",
       "      <td>...</td>\n",
       "      <td>3.208840</td>\n",
       "      <td>107.977795</td>\n",
       "      <td>62.0</td>\n",
       "      <td>12.0</td>\n",
       "      <td>50.0</td>\n",
       "      <td>83.0</td>\n",
       "      <td>63.0</td>\n",
       "      <td>33.0</td>\n",
       "      <td>NaN</td>\n",
       "      <td>13.295250</td>\n",
       "    </tr>\n",
       "    <tr>\n",
       "      <th>1986-10-31</th>\n",
       "      <td>428.065964</td>\n",
       "      <td>12.187253</td>\n",
       "      <td>4.137500</td>\n",
       "      <td>NaN</td>\n",
       "      <td>27.472222</td>\n",
       "      <td>63.0</td>\n",
       "      <td>13.0</td>\n",
       "      <td>16.0</td>\n",
       "      <td>47.0</td>\n",
       "      <td>95.0</td>\n",
       "      <td>...</td>\n",
       "      <td>3.517680</td>\n",
       "      <td>27.737338</td>\n",
       "      <td>54.0</td>\n",
       "      <td>10.0</td>\n",
       "      <td>53.0</td>\n",
       "      <td>78.0</td>\n",
       "      <td>71.0</td>\n",
       "      <td>46.0</td>\n",
       "      <td>34.404762</td>\n",
       "      <td>12.447242</td>\n",
       "    </tr>\n",
       "    <tr>\n",
       "      <th>1987-10-31</th>\n",
       "      <td>711.386455</td>\n",
       "      <td>11.561030</td>\n",
       "      <td>3.466304</td>\n",
       "      <td>NaN</td>\n",
       "      <td>29.027778</td>\n",
       "      <td>86.0</td>\n",
       "      <td>21.0</td>\n",
       "      <td>26.0</td>\n",
       "      <td>68.0</td>\n",
       "      <td>63.0</td>\n",
       "      <td>...</td>\n",
       "      <td>3.419890</td>\n",
       "      <td>NaN</td>\n",
       "      <td>60.0</td>\n",
       "      <td>9.0</td>\n",
       "      <td>50.0</td>\n",
       "      <td>83.0</td>\n",
       "      <td>66.0</td>\n",
       "      <td>42.0</td>\n",
       "      <td>27.472222</td>\n",
       "      <td>12.187253</td>\n",
       "    </tr>\n",
       "  </tbody>\n",
       "</table>\n",
       "<p>5 rows × 23 columns</p>\n",
       "</div>"
      ],
      "text/plain": [
       "                  pptn       temp  wind_speed          q  colour_lake  \\\n",
       "date                                                                    \n",
       "1982-10-31  460.222077  13.213326    3.790761  38.953613    26.666667   \n",
       "1983-10-31  465.471465  13.281862    4.259239  48.269174    17.625000   \n",
       "1985-10-31  548.106384  12.447242    3.633152  94.198550    34.404762   \n",
       "1986-10-31  428.065964  12.187253    4.137500        NaN    27.472222   \n",
       "1987-10-31  711.386455  11.561030    3.466304        NaN    29.027778   \n",
       "\n",
       "            rain_day  pptn_intense  wind_under_q0.2  wind_under_q0.4  \\\n",
       "date                                                                   \n",
       "1982-10-31      64.0          18.0             20.0             53.0   \n",
       "1983-10-31      62.0          14.0             13.0             48.0   \n",
       "1985-10-31      75.0          18.0             29.0             72.0   \n",
       "1986-10-31      63.0          13.0             16.0             47.0   \n",
       "1987-10-31      86.0          21.0             26.0             68.0   \n",
       "\n",
       "            wind_over_q0.6  ...  wind_speed_lag1      q_lag1  rain_day_lag1  \\\n",
       "date                        ...                                               \n",
       "1982-10-31            81.0  ...         3.383978   96.553901           61.0   \n",
       "1983-10-31            95.0  ...         3.732597  124.071782           68.0   \n",
       "1985-10-31            71.0  ...         3.208840  107.977795           62.0   \n",
       "1986-10-31            95.0  ...         3.517680   27.737338           54.0   \n",
       "1987-10-31            63.0  ...         3.419890         NaN           60.0   \n",
       "\n",
       "            pptn_intense_lag1  wind_under_q0.2_lag1  wind_under_q0.4_lag1  \\\n",
       "date                                                                        \n",
       "1982-10-31               10.0                  47.0                  81.0   \n",
       "1983-10-31               14.0                  43.0                  72.0   \n",
       "1985-10-31               12.0                  50.0                  83.0   \n",
       "1986-10-31               10.0                  53.0                  78.0   \n",
       "1987-10-31                9.0                  50.0                  83.0   \n",
       "\n",
       "            wind_over_q0.6_lag1  wind_over_q0.8_lag1  colour_lake_prevsummer  \\\n",
       "date                                                                           \n",
       "1982-10-31                 70.0                 42.0                     NaN   \n",
       "1983-10-31                 77.0                 48.0               26.666667   \n",
       "1985-10-31                 63.0                 33.0                     NaN   \n",
       "1986-10-31                 71.0                 46.0               34.404762   \n",
       "1987-10-31                 66.0                 42.0               27.472222   \n",
       "\n",
       "            temp_prevsummer  \n",
       "date                         \n",
       "1982-10-31        12.574081  \n",
       "1983-10-31        13.213326  \n",
       "1985-10-31        13.295250  \n",
       "1986-10-31        12.447242  \n",
       "1987-10-31        12.187253  \n",
       "\n",
       "[5 rows x 23 columns]"
      ]
     },
     "execution_count": 2,
     "metadata": {},
     "output_type": "execute_result"
    }
   ],
   "source": [
    "# Variable of interest. Choose from 'TP', 'Chl-a', 'CyanoBiovol', 'colour_lake'. These need to match the data matrix file names\n",
    "variable = \"colour_lake\"\n",
    "\n",
    "# Dict to translate from variable name used in filename, to that used in column name for picking out target var\n",
    "target_var_dict = {\n",
    "    \"TP\": \"tp_lake\",\n",
    "    \"Chl-a\": \"chl-a_lake\",\n",
    "    \"CyanoBiovol\": \"CyanoBiovol\",\n",
    "    \"colour_lake\": \"colour_lake\",\n",
    "}\n",
    "\n",
    "target_var = target_var_dict[variable]\n",
    "\n",
    "# Read seasonally-aggregated data matrix with target variable and features\n",
    "in_csv = (\n",
    "    r\"../../Data/DataMatrices/Seasonal_6monthly/split_by_variable/dataMatrix_seasonal_%s_summ_Van2.csv\"\n",
    "    % variable\n",
    ")\n",
    "df = pd.read_csv(in_csv)\n",
    "\n",
    "# Parse dates and tidy\n",
    "df[\"Date\"] = pd.to_datetime(df[\"Date\"])\n",
    "df.columns = df.columns.str.lower()\n",
    "df.set_index(\"date\", inplace=True)\n",
    "\n",
    "df.head()"
   ]
  },
  {
   "cell_type": "markdown",
   "metadata": {},
   "source": [
    "# Filling missing data\n",
    "\n",
    "Most ML algorithms don't like missing data. The code below calculates the proportion of missing values in each column."
   ]
  },
  {
   "cell_type": "code",
   "execution_count": 3,
   "metadata": {},
   "outputs": [
    {
     "data": {
      "text/html": [
       "<div>\n",
       "<style scoped>\n",
       "    .dataframe tbody tr th:only-of-type {\n",
       "        vertical-align: middle;\n",
       "    }\n",
       "\n",
       "    .dataframe tbody tr th {\n",
       "        vertical-align: top;\n",
       "    }\n",
       "\n",
       "    .dataframe thead th {\n",
       "        text-align: right;\n",
       "    }\n",
       "</style>\n",
       "<table border=\"1\" class=\"dataframe\">\n",
       "  <thead>\n",
       "    <tr style=\"text-align: right;\">\n",
       "      <th></th>\n",
       "      <th>total</th>\n",
       "      <th>percent</th>\n",
       "    </tr>\n",
       "  </thead>\n",
       "  <tbody>\n",
       "    <tr>\n",
       "      <th>q</th>\n",
       "      <td>7</td>\n",
       "      <td>20.000000</td>\n",
       "    </tr>\n",
       "    <tr>\n",
       "      <th>q_lag1</th>\n",
       "      <td>7</td>\n",
       "      <td>20.000000</td>\n",
       "    </tr>\n",
       "    <tr>\n",
       "      <th>colour_lake_prevsummer</th>\n",
       "      <td>3</td>\n",
       "      <td>8.571429</td>\n",
       "    </tr>\n",
       "    <tr>\n",
       "      <th>pptn</th>\n",
       "      <td>0</td>\n",
       "      <td>0.000000</td>\n",
       "    </tr>\n",
       "    <tr>\n",
       "      <th>temp_lag1</th>\n",
       "      <td>0</td>\n",
       "      <td>0.000000</td>\n",
       "    </tr>\n",
       "  </tbody>\n",
       "</table>\n",
       "</div>"
      ],
      "text/plain": [
       "                        total    percent\n",
       "q                           7  20.000000\n",
       "q_lag1                      7  20.000000\n",
       "colour_lake_prevsummer      3   8.571429\n",
       "pptn                        0   0.000000\n",
       "temp_lag1                   0   0.000000"
      ]
     },
     "execution_count": 3,
     "metadata": {},
     "output_type": "execute_result"
    }
   ],
   "source": [
    "# Pct missing\n",
    "missing = pd.DataFrame(df.isnull().sum()).rename(columns={0: \"total\"})\n",
    "missing[\"percent\"] = 100 * missing[\"total\"] / len(df)\n",
    "missing.sort_values(\"percent\", ascending=False).head()"
   ]
  },
  {
   "cell_type": "markdown",
   "metadata": {},
   "source": [
    "Filling these gaps sensibly is not easy. In the code below, I've used the following strategy:\n",
    "\n",
    " 1. Drop the lagged variables that have loads of missing data\n",
    " 2. Drop 1980, when have lots of missing data \n",
    " 2. For the rest, forward or backfill at the start/end of the period if there is just one missing row, interpolate if there's just one gap, and otherwise fill with the median for the variable.\n",
    "\n",
    "**Note:** Filling NaNs in this way transfers information between samples (i.e. rows) in the dataset. This violates the assumption that each row can be treated as an independent sample and may bias the model evaluation performed below. Ideally, we would retain a completely independent testing dataset for final model evaluation, but we don't have enough data for that here."
   ]
  },
  {
   "cell_type": "code",
   "execution_count": 4,
   "metadata": {},
   "outputs": [
    {
     "data": {
      "text/plain": [
       "Index(['pptn', 'temp', 'wind_speed', 'q', 'colour_lake', 'rain_day',\n",
       "       'pptn_intense', 'wind_under_q0.2', 'wind_under_q0.4', 'wind_over_q0.6',\n",
       "       'wind_over_q0.8', 'pptn_lag1', 'temp_lag1', 'wind_speed_lag1', 'q_lag1',\n",
       "       'rain_day_lag1', 'pptn_intense_lag1', 'wind_under_q0.2_lag1',\n",
       "       'wind_under_q0.4_lag1', 'wind_over_q0.6_lag1', 'wind_over_q0.8_lag1',\n",
       "       'colour_lake_prevsummer', 'temp_prevsummer'],\n",
       "      dtype='object')"
      ]
     },
     "execution_count": 4,
     "metadata": {},
     "output_type": "execute_result"
    }
   ],
   "source": [
    "df.columns"
   ]
  },
  {
   "cell_type": "code",
   "execution_count": 5,
   "metadata": {},
   "outputs": [
    {
     "name": "stderr",
     "output_type": "stream",
     "text": [
      "/opt/conda/lib/python3.9/site-packages/pandas/core/indexing.py:1214: UserWarning: Parsing '31-12-2018' in DD/MM/YYYY format. Provide format or specify infer_datetime_format=True for consistent parsing.\n",
      "  indexer = labels.slice_indexer(slice_obj.start, slice_obj.stop, slice_obj.step)\n",
      "/opt/conda/lib/python3.9/site-packages/pandas/core/indexes/base.py:6393: UserWarning: Parsing '31-12-2018' in DD/MM/YYYY format. Provide format or specify infer_datetime_format=True for consistent parsing.\n",
      "  label = self._maybe_cast_slice_bound(label, side)\n"
     ]
    }
   ],
   "source": [
    "# Drop lagged features with lots of missing data\n",
    "drop_features = [\"q_lag1\"]\n",
    "df = df.drop(drop_features, axis=1)\n",
    "\n",
    "# Patch missing values in other rows\n",
    "# Truncate start and end years\n",
    "df = df.loc[\"01-01-1981\":\"31-12-2018\", :]\n",
    "\n",
    "# Linearly interpolate gaps of size 1\n",
    "df.interpolate(method=\"linear\", limit=1, inplace=True)\n",
    "\n",
    "# Backwards fill summer colour NaNs at start of record (summer colour and previous summer's colour)\n",
    "for col in [\"colour_lake\", \"colour_lake_prevsummer\"]:\n",
    "    df[col] = df[col].fillna(method=\"bfill\", limit=2)\n",
    "\n",
    "# For discharge and tp_catch, which have slightly larger gaps, fill with the median over the whole series\n",
    "for col in [\"q\"]:\n",
    "    df[col] = df[col].fillna(df[col].median())\n",
    "\n",
    "# Discharge in 1993 looks dodgy (must have a data gap for much of the year), so also replace with median\n",
    "df.loc[\"1993-10-31\", \"q\"] = df[\"q\"].median()"
   ]
  },
  {
   "cell_type": "markdown",
   "metadata": {},
   "source": [
    "How effective has this startegy been at filling NaNs?"
   ]
  },
  {
   "cell_type": "code",
   "execution_count": 6,
   "metadata": {},
   "outputs": [
    {
     "data": {
      "text/html": [
       "<div>\n",
       "<style scoped>\n",
       "    .dataframe tbody tr th:only-of-type {\n",
       "        vertical-align: middle;\n",
       "    }\n",
       "\n",
       "    .dataframe tbody tr th {\n",
       "        vertical-align: top;\n",
       "    }\n",
       "\n",
       "    .dataframe thead th {\n",
       "        text-align: right;\n",
       "    }\n",
       "</style>\n",
       "<table border=\"1\" class=\"dataframe\">\n",
       "  <thead>\n",
       "    <tr style=\"text-align: right;\">\n",
       "      <th></th>\n",
       "      <th>total</th>\n",
       "      <th>percent</th>\n",
       "    </tr>\n",
       "  </thead>\n",
       "  <tbody>\n",
       "    <tr>\n",
       "      <th>pptn</th>\n",
       "      <td>0</td>\n",
       "      <td>0.0</td>\n",
       "    </tr>\n",
       "    <tr>\n",
       "      <th>temp</th>\n",
       "      <td>0</td>\n",
       "      <td>0.0</td>\n",
       "    </tr>\n",
       "    <tr>\n",
       "      <th>colour_lake_prevsummer</th>\n",
       "      <td>0</td>\n",
       "      <td>0.0</td>\n",
       "    </tr>\n",
       "    <tr>\n",
       "      <th>wind_over_q0.8_lag1</th>\n",
       "      <td>0</td>\n",
       "      <td>0.0</td>\n",
       "    </tr>\n",
       "    <tr>\n",
       "      <th>wind_over_q0.6_lag1</th>\n",
       "      <td>0</td>\n",
       "      <td>0.0</td>\n",
       "    </tr>\n",
       "    <tr>\n",
       "      <th>wind_under_q0.4_lag1</th>\n",
       "      <td>0</td>\n",
       "      <td>0.0</td>\n",
       "    </tr>\n",
       "    <tr>\n",
       "      <th>wind_under_q0.2_lag1</th>\n",
       "      <td>0</td>\n",
       "      <td>0.0</td>\n",
       "    </tr>\n",
       "    <tr>\n",
       "      <th>pptn_intense_lag1</th>\n",
       "      <td>0</td>\n",
       "      <td>0.0</td>\n",
       "    </tr>\n",
       "    <tr>\n",
       "      <th>rain_day_lag1</th>\n",
       "      <td>0</td>\n",
       "      <td>0.0</td>\n",
       "    </tr>\n",
       "    <tr>\n",
       "      <th>wind_speed_lag1</th>\n",
       "      <td>0</td>\n",
       "      <td>0.0</td>\n",
       "    </tr>\n",
       "  </tbody>\n",
       "</table>\n",
       "</div>"
      ],
      "text/plain": [
       "                        total  percent\n",
       "pptn                        0      0.0\n",
       "temp                        0      0.0\n",
       "colour_lake_prevsummer      0      0.0\n",
       "wind_over_q0.8_lag1         0      0.0\n",
       "wind_over_q0.6_lag1         0      0.0\n",
       "wind_under_q0.4_lag1        0      0.0\n",
       "wind_under_q0.2_lag1        0      0.0\n",
       "pptn_intense_lag1           0      0.0\n",
       "rain_day_lag1               0      0.0\n",
       "wind_speed_lag1             0      0.0"
      ]
     },
     "execution_count": 6,
     "metadata": {},
     "output_type": "execute_result"
    }
   ],
   "source": [
    "# Pct missing\n",
    "missing = pd.DataFrame(df.isnull().sum()).rename(columns={0: \"total\"})\n",
    "missing[\"percent\"] = 100 * missing[\"total\"] / len(df)\n",
    "missing.sort_values(\"percent\", ascending=False).head(10)"
   ]
  },
  {
   "cell_type": "code",
   "execution_count": 7,
   "metadata": {},
   "outputs": [],
   "source": [
    "# df.plot(subplots=True, figsize=(15,20));"
   ]
  },
  {
   "cell_type": "markdown",
   "metadata": {},
   "source": [
    "# Random forest modelling"
   ]
  },
  {
   "cell_type": "markdown",
   "metadata": {},
   "source": [
    "## Drop any remaining NaNs"
   ]
  },
  {
   "cell_type": "code",
   "execution_count": 8,
   "metadata": {},
   "outputs": [
    {
     "name": "stdout",
     "output_type": "stream",
     "text": [
      "Length of original dataset: 35\n",
      "Length of trimmed dataset:  35\n"
     ]
    }
   ],
   "source": [
    "df2 = df.dropna(how='any')\n",
    "print('Length of original dataset:', len(df))\n",
    "print('Length of trimmed dataset: ', len(df2))"
   ]
  },
  {
   "cell_type": "code",
   "execution_count": 9,
   "metadata": {},
   "outputs": [
    {
     "name": "stdout",
     "output_type": "stream",
     "text": [
      "Number of features:21\n"
     ]
    }
   ],
   "source": [
    "# Define response vars (target variable defined at the start)\n",
    "exp_vars = [i for i in df2.columns if i != target_var]\n",
    "\n",
    "# Extract vars\n",
    "y = df2[target_var]\n",
    "X = df2[exp_vars]\n",
    "\n",
    "# Standardise exp vars\n",
    "scalar = StandardScaler()\n",
    "X_scaled = pd.DataFrame(scalar.fit_transform(X), index=X.index, columns=X.columns)\n",
    "\n",
    "print(\"Number of features:%s\" % len(exp_vars))"
   ]
  },
  {
   "cell_type": "markdown",
   "metadata": {},
   "source": [
    "## Fit model\n",
    "\n",
    "Random Forests use \"bootstrapping\" to partition the data used by each tree. Data not included in each bootstrap sample can therefore be used to perform \"internal\" validation, without the need for a holdout dataset as is usual for cross-validation. This approach is usually referred to as the \"out-of-bag\" (OOB) validation score. In sci-kit learn, this is roughly equivalent to $R^2$, but calculated on \"unseen\" data (as opposed to the less stringent \"within-sample\" $R^2$ typically reported for OLS regression).\n",
    "\n",
    "OOB scores are not *exactly* the same as cross-validation but, under typical circumstances, the OOB score should be roughly comparable to 3-fold CV (see e.g. [here](https://stats.stackexchange.com/a/199201/5467) and [here](https://stats.stackexchange.com/a/208018/5467) for some discussion). When using OOB scores, it is not necessary to split the data into training and testing sets, which is a big advantage when data are limited (as is the case here). Ideally, validation using a test set should also be performed, but for the work here I'm going to focus on OOB scores in order to make the most of limited data.\n",
    "\n",
    "Random Forests have a number of hyperparameters that can be tuned to improve performance. Of these, the most important seem to be `'n_estimators'` (the number of treesin the forest) and `'max_features'` (the size of the random subsets of features to consider when splitting a node). There is some debate about the best values to choose for `'max_features'`: the default for regression problems in sci-kit learn is `'max_features' = 'n_features'`, whereas in R the recommended value is to use about one third of the total number of features (see the comments on [this](https://stackoverflow.com/a/23950648/505698) post and the references in the documentation [here](https://scikit-learn.org/stable/modules/generated/sklearn.ensemble.RandomForestRegressor.html) for details).\n",
    "\n",
    "The code below (modified from [here](https://scikit-learn.org/stable/auto_examples/ensemble/plot_ensemble_oob.html)) plots the OOB error rate (= `1 - OOB_Score`) as a function of `'n_estimators'` for various choices for `'max_features'`. "
   ]
  },
  {
   "cell_type": "code",
   "execution_count": 10,
   "metadata": {},
   "outputs": [
    {
     "data": {
      "text/plain": [
       "<matplotlib.legend.Legend at 0x7ff941f31ee0>"
      ]
     },
     "execution_count": 10,
     "metadata": {},
     "output_type": "execute_result"
    },
    {
     "data": {
      "image/png": "[encoded data removed]",
      "text/plain": [
       "<Figure size 720x432 with 1 Axes>"
      ]
     },
     "metadata": {},
     "output_type": "display_data"
    }
   ],
   "source": [
    "# For reproducibility\n",
    "rand_state = 42\n",
    "\n",
    "# List classifiers of interest\n",
    "# NB: Setting the `warm_start=True` disables parallel support, but is necessary for\n",
    "# tracking the OOB error trajectory during training\n",
    "ensemble_clfs = [\n",
    "    (\n",
    "        \"RandomForestRegressor, max_features='sqrt'\",\n",
    "        RandomForestRegressor(\n",
    "            n_estimators=100,\n",
    "            warm_start=True,\n",
    "            oob_score=True,\n",
    "            max_features=\"sqrt\",\n",
    "            random_state=rand_state,\n",
    "        ),\n",
    "    ),\n",
    "    (\n",
    "        \"RandomForestRegressor, max_features='log2'\",\n",
    "        RandomForestRegressor(\n",
    "            n_estimators=100,\n",
    "            warm_start=True,\n",
    "            max_features=\"log2\",\n",
    "            oob_score=True,\n",
    "            random_state=rand_state,\n",
    "        ),\n",
    "    ),\n",
    "    (\n",
    "        \"RandomForestRegressor, max_features=None\",\n",
    "        RandomForestRegressor(\n",
    "            n_estimators=100,\n",
    "            warm_start=True,\n",
    "            max_features=None,  # Default. Uses all feats\n",
    "            oob_score=True,\n",
    "            random_state=rand_state,\n",
    "        ),\n",
    "    ),\n",
    "    (\n",
    "        \"RandomForestRegressor, max_features=0.33\",\n",
    "        RandomForestRegressor(\n",
    "            n_estimators=100,\n",
    "            warm_start=True,\n",
    "            max_features=0.33,  # Older recommendation. Used by R\n",
    "            oob_score=True,\n",
    "            random_state=rand_state,\n",
    "        ),\n",
    "    ),\n",
    "]\n",
    "\n",
    "# Map a classifier name to a list of (<n_estimators>, <error rate>) pairs\n",
    "error_rate = OrderedDict((label, []) for label, _ in ensemble_clfs)\n",
    "\n",
    "# Range of `n_estimators` values to explore\n",
    "min_estimators = 10\n",
    "max_estimators = 500\n",
    "\n",
    "for label, clf in ensemble_clfs:\n",
    "    for i in range(min_estimators, max_estimators + 1, 5):\n",
    "        clf.set_params(n_estimators=i)\n",
    "        clf.fit(X_scaled, y)\n",
    "\n",
    "        # Record the OOB error\n",
    "        oob_error = 1 - clf.oob_score_\n",
    "        error_rate[label].append((i, oob_error))\n",
    "\n",
    "# Generate the \"OOB error rate\" vs. \"n_estimators\" plot\n",
    "fig = plt.figure(figsize=(10, 6))\n",
    "for label, clf_err in error_rate.items():\n",
    "    xs, ys = zip(*clf_err)\n",
    "    plt.plot(xs, ys, label=label)\n",
    "\n",
    "plt.xlim(min_estimators, max_estimators)\n",
    "plt.xlabel(\"n_estimators\")\n",
    "plt.ylabel(\"OOB error rate\")\n",
    "plt.legend(loc=\"upper right\")"
   ]
  },
  {
   "cell_type": "markdown",
   "metadata": {},
   "source": [
    "To pick the best parameters to use in the models below, pick the curve in the above plot which has the lowest error rate, and pick n_estimators where the curve has flattened out (or reached a minimum?)\n",
    "\n",
    "## Feature importances"
   ]
  },
  {
   "cell_type": "code",
   "execution_count": 18,
   "metadata": {},
   "outputs": [
    {
     "name": "stdout",
     "output_type": "stream",
     "text": [
      "OOB score: 0.65\n"
     ]
    },
    {
     "data": {
      "text/html": [
       "<div>\n",
       "<style scoped>\n",
       "    .dataframe tbody tr th:only-of-type {\n",
       "        vertical-align: middle;\n",
       "    }\n",
       "\n",
       "    .dataframe tbody tr th {\n",
       "        vertical-align: top;\n",
       "    }\n",
       "\n",
       "    .dataframe thead th {\n",
       "        text-align: right;\n",
       "    }\n",
       "</style>\n",
       "<table border=\"1\" class=\"dataframe\">\n",
       "  <thead>\n",
       "    <tr style=\"text-align: right;\">\n",
       "      <th></th>\n",
       "      <th>importance</th>\n",
       "    </tr>\n",
       "  </thead>\n",
       "  <tbody>\n",
       "    <tr>\n",
       "      <th>colour_lake_prevsummer</th>\n",
       "      <td>0.736344</td>\n",
       "    </tr>\n",
       "    <tr>\n",
       "      <th>wind_under_q0.2</th>\n",
       "      <td>0.049368</td>\n",
       "    </tr>\n",
       "    <tr>\n",
       "      <th>pptn</th>\n",
       "      <td>0.028926</td>\n",
       "    </tr>\n",
       "    <tr>\n",
       "      <th>pptn_intense</th>\n",
       "      <td>0.016336</td>\n",
       "    </tr>\n",
       "    <tr>\n",
       "      <th>q</th>\n",
       "      <td>0.016306</td>\n",
       "    </tr>\n",
       "    <tr>\n",
       "      <th>rain_day</th>\n",
       "      <td>0.016222</td>\n",
       "    </tr>\n",
       "    <tr>\n",
       "      <th>wind_under_q0.4_lag1</th>\n",
       "      <td>0.016201</td>\n",
       "    </tr>\n",
       "    <tr>\n",
       "      <th>temp</th>\n",
       "      <td>0.014508</td>\n",
       "    </tr>\n",
       "    <tr>\n",
       "      <th>temp_prevsummer</th>\n",
       "      <td>0.011884</td>\n",
       "    </tr>\n",
       "    <tr>\n",
       "      <th>pptn_lag1</th>\n",
       "      <td>0.011589</td>\n",
       "    </tr>\n",
       "  </tbody>\n",
       "</table>\n",
       "</div>"
      ],
      "text/plain": [
       "                        importance\n",
       "colour_lake_prevsummer    0.736344\n",
       "wind_under_q0.2           0.049368\n",
       "pptn                      0.028926\n",
       "pptn_intense              0.016336\n",
       "q                         0.016306\n",
       "rain_day                  0.016222\n",
       "wind_under_q0.4_lag1      0.016201\n",
       "temp                      0.014508\n",
       "temp_prevsummer           0.011884\n",
       "pptn_lag1                 0.011589"
      ]
     },
     "execution_count": 18,
     "metadata": {},
     "output_type": "execute_result"
    }
   ],
   "source": [
    "# Set based on graph above\n",
    "n_estimators = 350\n",
    "max_features = None\n",
    "\n",
    "# Build model using 'best' results from above\n",
    "model = RandomForestRegressor(\n",
    "    n_estimators=n_estimators,\n",
    "    warm_start=False,\n",
    "    max_features=max_features,\n",
    "    oob_score=True,\n",
    "    random_state=rand_state,\n",
    ")\n",
    "model.fit(X_scaled, y)\n",
    "\n",
    "print(\"OOB score: %.2f\" % model.oob_score_)\n",
    "\n",
    "# Get importance scores\n",
    "res_df = pd.DataFrame(\n",
    "    {\"importance\": model.feature_importances_}, index=X.columns.values\n",
    ").sort_values(by=\"importance\", ascending=False)\n",
    "res_df.head(10)"
   ]
  },
  {
   "cell_type": "markdown",
   "metadata": {},
   "source": [
    "Looking at effect of choice of params: importances pretty robust in terms of ordering of top 2. OOB reduces if go from 'None' to '0.33'.\n",
    "\n",
    "\n",
    "**Overall:** colour_lake_prevsummer is the most important. The rest basically aren't."
   ]
  },
  {
   "cell_type": "code",
   "execution_count": 19,
   "metadata": {},
   "outputs": [
    {
     "data": {
      "image/png": "[encoded data removed]",
      "text/plain": [
       "<Figure size 576x432 with 1 Axes>"
      ]
     },
     "metadata": {},
     "output_type": "display_data"
    }
   ],
   "source": [
    "# Plot top 10 feature importances\n",
    "ax = res_df[:10].plot(kind=\"bar\", figsize=(8, 6))\n",
    "plt.ylabel(\"Importance\")\n",
    "ax.get_legend().remove()\n",
    "plt.title(\"colour\")\n",
    "plt.tight_layout()\n",
    "plt.savefig(\"../../Figures/FeatureImportance/%s.png\" % variable)"
   ]
  },
  {
   "cell_type": "markdown",
   "metadata": {},
   "source": [
    "# Recursive feature elimination\n",
    "\n",
    "Recursive feature elimination attempts to find the best model using subsets of the available features. This is essentially the same as \"stepwise\" regression, except here we're using CV to avoid overfitting (as opposed to traditional \"significance testing\"). In the code below, I've used out-of-sample $R^2$ as a measure of performance. The best values obtained are pretty low, but remember that out-of-sample tests are much more stringent than their within-sample equivalents. The best overall indicator of perfornmance used in this notebook is the OOB score.\n",
    "\n",
    "**Note:** Other scoring metrics are available. Use \n",
    "\n",
    "    sorted(sklearn.metrics.SCORERS.keys())\n",
    "    \n",
    "to print a list."
   ]
  },
  {
   "cell_type": "code",
   "execution_count": 20,
   "metadata": {},
   "outputs": [
    {
     "name": "stdout",
     "output_type": "stream",
     "text": [
      "Optimal number of features: 3\n",
      "\n",
      "Optimal features (in no particular order):\n",
      "   pptn\n",
      "   wind_under_q0.2\n",
      "   colour_lake_prevsummer\n"
     ]
    },
    {
     "name": "stderr",
     "output_type": "stream",
     "text": [
      "/opt/conda/lib/python3.9/site-packages/sklearn/utils/deprecation.py:103: FutureWarning: The `grid_scores_` attribute is deprecated in version 1.0 in favor of `cv_results_` and will be removed in version 1.2.\n",
      "  warnings.warn(msg, category=FutureWarning)\n"
     ]
    },
    {
     "data": {
      "text/plain": [
       "[<matplotlib.lines.Line2D at 0x7ff938b1e2b0>,\n",
       " <matplotlib.lines.Line2D at 0x7ff938b1e310>,\n",
       " <matplotlib.lines.Line2D at 0x7ff938b1e430>]"
      ]
     },
     "execution_count": 20,
     "metadata": {},
     "output_type": "execute_result"
    },
    {
     "data": {
      "image/png": "[encoded data removed]",
      "text/plain": [
       "<Figure size 720x432 with 1 Axes>"
      ]
     },
     "metadata": {},
     "output_type": "display_data"
    }
   ],
   "source": [
    "# Build same model as above\n",
    "model = RandomForestRegressor(\n",
    "    n_estimators=n_estimators,\n",
    "    warm_start=False,\n",
    "    max_features=max_features,\n",
    "    oob_score=True,\n",
    "    random_state=rand_state,\n",
    ")\n",
    "\n",
    "# Feature elimination with 3-fold CV\n",
    "rfecv = RFECV(estimator=model, step=1, cv=3, scoring=\"r2\", n_jobs=-1)\n",
    "\n",
    "selector = rfecv.fit(X_scaled, y)\n",
    "\n",
    "print(\"Optimal number of features: %d\" % rfecv.n_features_)\n",
    "print(\"\")\n",
    "print(\"Optimal features (in no particular order):\")\n",
    "for i in np.array(exp_vars)[selector.support_]:\n",
    "    print(\"  \", i)\n",
    "\n",
    "# Plot number of features vs. cross-validation score\n",
    "plt.figure(figsize=(10, 6))\n",
    "plt.xlabel(\"Number of features\")\n",
    "plt.ylabel(\"$R^2$\")\n",
    "plt.plot(range(1, len(rfecv.grid_scores_) + 1), rfecv.grid_scores_)"
   ]
  },
  {
   "cell_type": "markdown",
   "metadata": {},
   "source": [
    "Use the plot to decide roughly how many features to pick before things level off. Then think about which features are likely to contain duplicate information, then try a consolidated list, removing duplicated features, and see how that model performs.\n",
    "\n",
    "Lets see how OOB changes as we reduce the number of explanatory variables."
   ]
  },
  {
   "cell_type": "code",
   "execution_count": 22,
   "metadata": {},
   "outputs": [
    {
     "name": "stdout",
     "output_type": "stream",
     "text": [
      "OOB score: 0.58\n"
     ]
    },
    {
     "data": {
      "text/html": [
       "<div>\n",
       "<style scoped>\n",
       "    .dataframe tbody tr th:only-of-type {\n",
       "        vertical-align: middle;\n",
       "    }\n",
       "\n",
       "    .dataframe tbody tr th {\n",
       "        vertical-align: top;\n",
       "    }\n",
       "\n",
       "    .dataframe thead th {\n",
       "        text-align: right;\n",
       "    }\n",
       "</style>\n",
       "<table border=\"1\" class=\"dataframe\">\n",
       "  <thead>\n",
       "    <tr style=\"text-align: right;\">\n",
       "      <th></th>\n",
       "      <th>importance</th>\n",
       "    </tr>\n",
       "  </thead>\n",
       "  <tbody>\n",
       "    <tr>\n",
       "      <th>colour_lake_prevsummer</th>\n",
       "      <td>0.844376</td>\n",
       "    </tr>\n",
       "    <tr>\n",
       "      <th>pptn</th>\n",
       "      <td>0.155624</td>\n",
       "    </tr>\n",
       "  </tbody>\n",
       "</table>\n",
       "</div>"
      ],
      "text/plain": [
       "                        importance\n",
       "colour_lake_prevsummer    0.844376\n",
       "pptn                      0.155624"
      ]
     },
     "execution_count": 22,
     "metadata": {},
     "output_type": "execute_result"
    }
   ],
   "source": [
    "# Reduce list of exp vars based on results above\n",
    "exp_vars_2 = [\n",
    "    \"pptn\",\n",
    "    # \"wind_under_q0.2\",  # In the optimum, but not selected\n",
    "    \"colour_lake_prevsummer\",\n",
    "]\n",
    "\n",
    "# Extract vars\n",
    "y = df2[target_var]\n",
    "X2 = df2[exp_vars_2]\n",
    "\n",
    "# Standardise exp vars\n",
    "scalar = StandardScaler()\n",
    "X2_scaled = pd.DataFrame(scalar.fit_transform(X2), index=X2.index, columns=X2.columns)\n",
    "\n",
    "# Build model using 'best' results from above\n",
    "model = RandomForestRegressor(\n",
    "    n_estimators=n_estimators,\n",
    "    warm_start=False,\n",
    "    max_features=max_features,\n",
    "    oob_score=True,\n",
    "    random_state=rand_state,\n",
    ")\n",
    "model.fit(X2_scaled, y)\n",
    "\n",
    "print(\"OOB score: %.2f\" % model.oob_score_)\n",
    "\n",
    "# Get importance scores\n",
    "res_df = pd.DataFrame(\n",
    "    {\"importance\": model.feature_importances_}, index=X2.columns.values\n",
    ").sort_values(by=\"importance\", ascending=False)\n",
    "res_df.head(10)"
   ]
  },
  {
   "cell_type": "code",
   "execution_count": 39,
   "metadata": {},
   "outputs": [
    {
     "data": {
      "text/plain": [
       "<AxesSubplot:>"
      ]
     },
     "execution_count": 39,
     "metadata": {},
     "output_type": "execute_result"
    },
    {
     "data": {
      "image/png": "[encoded data removed]",
      "text/plain": [
       "<Figure size 432x216 with 1 Axes>"
      ]
     },
     "metadata": {},
     "output_type": "display_data"
    }
   ],
   "source": [
    "# Plot\n",
    "res_df[:15].plot(kind='bar', figsize=(6,3))"
   ]
  },
  {
   "cell_type": "code",
   "execution_count": null,
   "metadata": {},
   "outputs": [],
   "source": []
  }
 ],
 "metadata": {
  "kernelspec": {
   "display_name": "Python 3 (ipykernel)",
   "language": "python",
   "name": "python3"
  },
  "language_info": {
   "codemirror_mode": {
    "name": "ipython",
    "version": 3
   },
   "file_extension": ".py",
   "mimetype": "text/x-python",
   "name": "python",
   "nbconvert_exporter": "python",
   "pygments_lexer": "ipython3",
   "version": "3.9.10"
  }
 },
 "nbformat": 4,
 "nbformat_minor": 4
}
