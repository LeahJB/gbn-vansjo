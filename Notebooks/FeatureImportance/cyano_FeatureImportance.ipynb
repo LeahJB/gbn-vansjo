{
 "cells": [
  {
   "cell_type": "code",
   "execution_count": 36,
   "metadata": {},
   "outputs": [],
   "source": [
    "%matplotlib inline\n",
    "import pandas as pd\n",
    "import numpy as np\n",
    "import nivapy3 as nivapy\n",
    "import seaborn as sn\n",
    "import matplotlib.pyplot as plt\n",
    "from sklearn.ensemble import RandomForestRegressor\n",
    "from sklearn.impute import SimpleImputer\n",
    "from sklearn.preprocessing import StandardScaler\n",
    "from sklearn.model_selection import train_test_split\n",
    "from sklearn.model_selection import RandomizedSearchCV\n",
    "from sklearn.metrics import r2_score\n",
    "from sklearn.feature_selection import RFECV\n",
    "from collections import OrderedDict\n",
    "\n",
    "plt.style.use('ggplot')"
   ]
  },
  {
   "cell_type": "markdown",
   "metadata": {},
   "source": [
    "# Feature importances for WATExR\n",
    "\n",
    "Estimating feature importances using a Random Forest, for dependent variable growing season maximum lake cyanobacteria biovolume.\n",
    "\n",
    "## Read data"
   ]
  },
  {
   "cell_type": "code",
   "execution_count": 37,
   "metadata": {},
   "outputs": [
    {
     "data": {
      "text/html": [
       "<div>\n",
       "<style scoped>\n",
       "    .dataframe tbody tr th:only-of-type {\n",
       "        vertical-align: middle;\n",
       "    }\n",
       "\n",
       "    .dataframe tbody tr th {\n",
       "        vertical-align: top;\n",
       "    }\n",
       "\n",
       "    .dataframe thead th {\n",
       "        text-align: right;\n",
       "    }\n",
       "</style>\n",
       "<table border=\"1\" class=\"dataframe\">\n",
       "  <thead>\n",
       "    <tr style=\"text-align: right;\">\n",
       "      <th></th>\n",
       "      <th>pptn</th>\n",
       "      <th>temp</th>\n",
       "      <th>wind_speed</th>\n",
       "      <th>q</th>\n",
       "      <th>tp_catch</th>\n",
       "      <th>chl-a_lake</th>\n",
       "      <th>tp_lake</th>\n",
       "      <th>colour_lake</th>\n",
       "      <th>cyanobiovol</th>\n",
       "      <th>rain_day</th>\n",
       "      <th>...</th>\n",
       "      <th>pptn_intense_lag1</th>\n",
       "      <th>wind_under_q0.2_lag1</th>\n",
       "      <th>wind_under_q0.4_lag1</th>\n",
       "      <th>wind_over_q0.6_lag1</th>\n",
       "      <th>wind_over_q0.8_lag1</th>\n",
       "      <th>tp_lake_prevsummer</th>\n",
       "      <th>colour_lake_prevsummer</th>\n",
       "      <th>chl-a_lake_prevsummer</th>\n",
       "      <th>temp_prevsummer</th>\n",
       "      <th>cyanobiovol_prevsummer</th>\n",
       "    </tr>\n",
       "    <tr>\n",
       "      <th>date</th>\n",
       "      <th></th>\n",
       "      <th></th>\n",
       "      <th></th>\n",
       "      <th></th>\n",
       "      <th></th>\n",
       "      <th></th>\n",
       "      <th></th>\n",
       "      <th></th>\n",
       "      <th></th>\n",
       "      <th></th>\n",
       "      <th></th>\n",
       "      <th></th>\n",
       "      <th></th>\n",
       "      <th></th>\n",
       "      <th></th>\n",
       "      <th></th>\n",
       "      <th></th>\n",
       "      <th></th>\n",
       "      <th></th>\n",
       "      <th></th>\n",
       "      <th></th>\n",
       "    </tr>\n",
       "  </thead>\n",
       "  <tbody>\n",
       "    <tr>\n",
       "      <th>1996-10-31</th>\n",
       "      <td>449.609513</td>\n",
       "      <td>12.510690</td>\n",
       "      <td>3.544022</td>\n",
       "      <td>49.770720</td>\n",
       "      <td>107.784000</td>\n",
       "      <td>21.300000</td>\n",
       "      <td>31.283333</td>\n",
       "      <td>17.666667</td>\n",
       "      <td>4.80</td>\n",
       "      <td>57.0</td>\n",
       "      <td>...</td>\n",
       "      <td>2.0</td>\n",
       "      <td>87.0</td>\n",
       "      <td>128.0</td>\n",
       "      <td>25.0</td>\n",
       "      <td>10.0</td>\n",
       "      <td>29.450000</td>\n",
       "      <td>25.833333</td>\n",
       "      <td>21.883333</td>\n",
       "      <td>13.372581</td>\n",
       "      <td>NaN</td>\n",
       "    </tr>\n",
       "    <tr>\n",
       "      <th>1997-10-31</th>\n",
       "      <td>420.429376</td>\n",
       "      <td>13.651246</td>\n",
       "      <td>3.236957</td>\n",
       "      <td>26.809574</td>\n",
       "      <td>45.546154</td>\n",
       "      <td>23.066667</td>\n",
       "      <td>29.416667</td>\n",
       "      <td>19.000000</td>\n",
       "      <td>2.82</td>\n",
       "      <td>55.0</td>\n",
       "      <td>...</td>\n",
       "      <td>13.0</td>\n",
       "      <td>50.0</td>\n",
       "      <td>74.0</td>\n",
       "      <td>76.0</td>\n",
       "      <td>46.0</td>\n",
       "      <td>31.283333</td>\n",
       "      <td>17.666667</td>\n",
       "      <td>21.300000</td>\n",
       "      <td>12.510690</td>\n",
       "      <td>4.80</td>\n",
       "    </tr>\n",
       "    <tr>\n",
       "      <th>1998-10-31</th>\n",
       "      <td>519.280270</td>\n",
       "      <td>12.224184</td>\n",
       "      <td>3.504348</td>\n",
       "      <td>54.544061</td>\n",
       "      <td>65.750000</td>\n",
       "      <td>21.100000</td>\n",
       "      <td>32.366667</td>\n",
       "      <td>NaN</td>\n",
       "      <td>2.28</td>\n",
       "      <td>77.0</td>\n",
       "      <td>...</td>\n",
       "      <td>12.0</td>\n",
       "      <td>45.0</td>\n",
       "      <td>87.0</td>\n",
       "      <td>62.0</td>\n",
       "      <td>28.0</td>\n",
       "      <td>29.416667</td>\n",
       "      <td>19.000000</td>\n",
       "      <td>23.066667</td>\n",
       "      <td>13.651246</td>\n",
       "      <td>2.82</td>\n",
       "    </tr>\n",
       "    <tr>\n",
       "      <th>1999-10-31</th>\n",
       "      <td>630.476421</td>\n",
       "      <td>12.939060</td>\n",
       "      <td>3.533152</td>\n",
       "      <td>73.312387</td>\n",
       "      <td>99.400000</td>\n",
       "      <td>NaN</td>\n",
       "      <td>NaN</td>\n",
       "      <td>50.423077</td>\n",
       "      <td>5.96</td>\n",
       "      <td>70.0</td>\n",
       "      <td>...</td>\n",
       "      <td>19.0</td>\n",
       "      <td>55.0</td>\n",
       "      <td>97.0</td>\n",
       "      <td>53.0</td>\n",
       "      <td>38.0</td>\n",
       "      <td>32.366667</td>\n",
       "      <td>NaN</td>\n",
       "      <td>21.100000</td>\n",
       "      <td>12.224184</td>\n",
       "      <td>2.28</td>\n",
       "    </tr>\n",
       "    <tr>\n",
       "      <th>2000-10-31</th>\n",
       "      <td>617.658010</td>\n",
       "      <td>13.102658</td>\n",
       "      <td>3.577174</td>\n",
       "      <td>58.052765</td>\n",
       "      <td>64.111111</td>\n",
       "      <td>22.166667</td>\n",
       "      <td>32.666667</td>\n",
       "      <td>42.560000</td>\n",
       "      <td>4.67</td>\n",
       "      <td>76.0</td>\n",
       "      <td>...</td>\n",
       "      <td>10.0</td>\n",
       "      <td>36.0</td>\n",
       "      <td>72.0</td>\n",
       "      <td>70.0</td>\n",
       "      <td>46.0</td>\n",
       "      <td>NaN</td>\n",
       "      <td>50.423077</td>\n",
       "      <td>NaN</td>\n",
       "      <td>12.939060</td>\n",
       "      <td>5.96</td>\n",
       "    </tr>\n",
       "  </tbody>\n",
       "</table>\n",
       "<p>5 rows × 31 columns</p>\n",
       "</div>"
      ],
      "text/plain": [
       "                  pptn       temp  wind_speed          q    tp_catch  \\\n",
       "date                                                                   \n",
       "1996-10-31  449.609513  12.510690    3.544022  49.770720  107.784000   \n",
       "1997-10-31  420.429376  13.651246    3.236957  26.809574   45.546154   \n",
       "1998-10-31  519.280270  12.224184    3.504348  54.544061   65.750000   \n",
       "1999-10-31  630.476421  12.939060    3.533152  73.312387   99.400000   \n",
       "2000-10-31  617.658010  13.102658    3.577174  58.052765   64.111111   \n",
       "\n",
       "            chl-a_lake    tp_lake  colour_lake  cyanobiovol  rain_day  ...  \\\n",
       "date                                                                   ...   \n",
       "1996-10-31   21.300000  31.283333    17.666667         4.80      57.0  ...   \n",
       "1997-10-31   23.066667  29.416667    19.000000         2.82      55.0  ...   \n",
       "1998-10-31   21.100000  32.366667          NaN         2.28      77.0  ...   \n",
       "1999-10-31         NaN        NaN    50.423077         5.96      70.0  ...   \n",
       "2000-10-31   22.166667  32.666667    42.560000         4.67      76.0  ...   \n",
       "\n",
       "            pptn_intense_lag1  wind_under_q0.2_lag1  wind_under_q0.4_lag1  \\\n",
       "date                                                                        \n",
       "1996-10-31                2.0                  87.0                 128.0   \n",
       "1997-10-31               13.0                  50.0                  74.0   \n",
       "1998-10-31               12.0                  45.0                  87.0   \n",
       "1999-10-31               19.0                  55.0                  97.0   \n",
       "2000-10-31               10.0                  36.0                  72.0   \n",
       "\n",
       "            wind_over_q0.6_lag1  wind_over_q0.8_lag1 tp_lake_prevsummer  \\\n",
       "date                                                                      \n",
       "1996-10-31                 25.0                 10.0          29.450000   \n",
       "1997-10-31                 76.0                 46.0          31.283333   \n",
       "1998-10-31                 62.0                 28.0          29.416667   \n",
       "1999-10-31                 53.0                 38.0          32.366667   \n",
       "2000-10-31                 70.0                 46.0                NaN   \n",
       "\n",
       "            colour_lake_prevsummer  chl-a_lake_prevsummer  temp_prevsummer  \\\n",
       "date                                                                         \n",
       "1996-10-31               25.833333              21.883333        13.372581   \n",
       "1997-10-31               17.666667              21.300000        12.510690   \n",
       "1998-10-31               19.000000              23.066667        13.651246   \n",
       "1999-10-31                     NaN              21.100000        12.224184   \n",
       "2000-10-31               50.423077                    NaN        12.939060   \n",
       "\n",
       "            cyanobiovol_prevsummer  \n",
       "date                                \n",
       "1996-10-31                     NaN  \n",
       "1997-10-31                    4.80  \n",
       "1998-10-31                    2.82  \n",
       "1999-10-31                    2.28  \n",
       "2000-10-31                    5.96  \n",
       "\n",
       "[5 rows x 31 columns]"
      ]
     },
     "execution_count": 37,
     "metadata": {},
     "output_type": "execute_result"
    }
   ],
   "source": [
    "# Variable of interest. Choose from 'TP', 'Chl-a', 'CyanoBiovol'. These need to match the data matrix file names\n",
    "variable = \"CyanoBiovol\"\n",
    "\n",
    "# Dict to translate from variable name used in filename, to that used in column name for picking out target var\n",
    "target_var_dict = {\n",
    "    \"TP\": \"tp_lake\",\n",
    "    \"Chl-a\": \"chl-a_lake\",\n",
    "    \"CyanoBiovol\": \"cyanobiovol\",\n",
    "    \"Colour\": \"colour_lake\",\n",
    "}\n",
    "\n",
    "target_var = target_var_dict[variable]\n",
    "\n",
    "# Read seasonally-aggregated data matrix with target variable and features\n",
    "in_csv = (\n",
    "    r\"../../Data/DataMatrices/Seasonal_VarByVar/1SummerSeason/dataMatrix_seasonal_%s_summ_Van2.csv\"\n",
    "    % variable\n",
    ")\n",
    "df = pd.read_csv(in_csv)\n",
    "\n",
    "# Parse dates and tidy\n",
    "df[\"Date\"] = pd.to_datetime(df[\"Date\"])\n",
    "df.columns = df.columns.str.lower()\n",
    "df.set_index(\"date\", inplace=True)\n",
    "\n",
    "df.head()"
   ]
  },
  {
   "cell_type": "markdown",
   "metadata": {},
   "source": [
    "# Filling missing data\n",
    "\n",
    "Most ML algorithms don't like missing data. The code below calculates the proportion of missing values in each column."
   ]
  },
  {
   "cell_type": "code",
   "execution_count": 38,
   "metadata": {},
   "outputs": [
    {
     "data": {
      "text/html": [
       "<div>\n",
       "<style scoped>\n",
       "    .dataframe tbody tr th:only-of-type {\n",
       "        vertical-align: middle;\n",
       "    }\n",
       "\n",
       "    .dataframe tbody tr th {\n",
       "        vertical-align: top;\n",
       "    }\n",
       "\n",
       "    .dataframe thead th {\n",
       "        text-align: right;\n",
       "    }\n",
       "</style>\n",
       "<table border=\"1\" class=\"dataframe\">\n",
       "  <thead>\n",
       "    <tr style=\"text-align: right;\">\n",
       "      <th></th>\n",
       "      <th>total</th>\n",
       "      <th>percent</th>\n",
       "    </tr>\n",
       "  </thead>\n",
       "  <tbody>\n",
       "    <tr>\n",
       "      <th>tp_catch</th>\n",
       "      <td>2</td>\n",
       "      <td>8.695652</td>\n",
       "    </tr>\n",
       "    <tr>\n",
       "      <th>cyanobiovol_prevsummer</th>\n",
       "      <td>1</td>\n",
       "      <td>4.347826</td>\n",
       "    </tr>\n",
       "    <tr>\n",
       "      <th>tp_lake</th>\n",
       "      <td>1</td>\n",
       "      <td>4.347826</td>\n",
       "    </tr>\n",
       "    <tr>\n",
       "      <th>tp_lake_prevsummer</th>\n",
       "      <td>1</td>\n",
       "      <td>4.347826</td>\n",
       "    </tr>\n",
       "    <tr>\n",
       "      <th>colour_lake</th>\n",
       "      <td>1</td>\n",
       "      <td>4.347826</td>\n",
       "    </tr>\n",
       "    <tr>\n",
       "      <th>colour_lake_prevsummer</th>\n",
       "      <td>1</td>\n",
       "      <td>4.347826</td>\n",
       "    </tr>\n",
       "    <tr>\n",
       "      <th>chl-a_lake</th>\n",
       "      <td>1</td>\n",
       "      <td>4.347826</td>\n",
       "    </tr>\n",
       "    <tr>\n",
       "      <th>chl-a_lake_prevsummer</th>\n",
       "      <td>1</td>\n",
       "      <td>4.347826</td>\n",
       "    </tr>\n",
       "    <tr>\n",
       "      <th>wind_speed_lag1</th>\n",
       "      <td>0</td>\n",
       "      <td>0.000000</td>\n",
       "    </tr>\n",
       "    <tr>\n",
       "      <th>temp_prevsummer</th>\n",
       "      <td>0</td>\n",
       "      <td>0.000000</td>\n",
       "    </tr>\n",
       "  </tbody>\n",
       "</table>\n",
       "</div>"
      ],
      "text/plain": [
       "                        total   percent\n",
       "tp_catch                    2  8.695652\n",
       "cyanobiovol_prevsummer      1  4.347826\n",
       "tp_lake                     1  4.347826\n",
       "tp_lake_prevsummer          1  4.347826\n",
       "colour_lake                 1  4.347826\n",
       "colour_lake_prevsummer      1  4.347826\n",
       "chl-a_lake                  1  4.347826\n",
       "chl-a_lake_prevsummer       1  4.347826\n",
       "wind_speed_lag1             0  0.000000\n",
       "temp_prevsummer             0  0.000000"
      ]
     },
     "execution_count": 38,
     "metadata": {},
     "output_type": "execute_result"
    }
   ],
   "source": [
    "# Pct missing\n",
    "missing = pd.DataFrame(df.isnull().sum()).rename(columns={0: \"total\"})\n",
    "missing[\"percent\"] = 100 * missing[\"total\"] / len(df)\n",
    "missing.sort_values(\"percent\", ascending=False).head(10)"
   ]
  },
  {
   "cell_type": "code",
   "execution_count": 39,
   "metadata": {},
   "outputs": [
    {
     "data": {
      "text/plain": [
       "Index(['pptn', 'temp', 'wind_speed', 'q', 'tp_catch', 'chl-a_lake', 'tp_lake',\n",
       "       'colour_lake', 'cyanobiovol', 'rain_day', 'pptn_intense',\n",
       "       'wind_under_q0.2', 'wind_under_q0.4', 'wind_over_q0.6',\n",
       "       'wind_over_q0.8', 'season', 'pptn_lag1', 'temp_lag1', 'wind_speed_lag1',\n",
       "       'q_lag1', 'rain_day_lag1', 'pptn_intense_lag1', 'wind_under_q0.2_lag1',\n",
       "       'wind_under_q0.4_lag1', 'wind_over_q0.6_lag1', 'wind_over_q0.8_lag1',\n",
       "       'tp_lake_prevsummer', 'colour_lake_prevsummer', 'chl-a_lake_prevsummer',\n",
       "       'temp_prevsummer', 'cyanobiovol_prevsummer'],\n",
       "      dtype='object')"
      ]
     },
     "execution_count": 39,
     "metadata": {},
     "output_type": "execute_result"
    }
   ],
   "source": [
    "df.columns"
   ]
  },
  {
   "cell_type": "markdown",
   "metadata": {},
   "source": [
    "To fill the gaps:\n",
    "Forward or backfill at the start/end of the period if there is just one missing row, interpolate if there's just one gap, and otherwise fill with the median for the variable.\n",
    "\n",
    "**Note:** Filling NaNs in this way transfers information between samples (i.e. rows) in the dataset. This violates the assumption that each row can be treated as an independent sample and may bias the model evaluation performed below. Ideally, we would retain a completely independent testing dataset for final model evaluation, but we don't have enough data for that here."
   ]
  },
  {
   "cell_type": "code",
   "execution_count": 40,
   "metadata": {},
   "outputs": [],
   "source": [
    "# Drop some features. Take opportunity to dropp season column here too.\n",
    "drop_features = [\"season\"]\n",
    "df = df.drop(drop_features, axis=1)\n",
    "\n",
    "# Patch missing values in other rows\n",
    "\n",
    "# Linearly interpolate gaps of size 1\n",
    "df.interpolate(method=\"linear\", limit=1, inplace=True)\n",
    "\n",
    "# Backwards fill a couple of features with one missing row at start of record\n",
    "for col in [\"colour_lake\", \"colour_lake_prevsummer\", \"cyanobiovol_prevsummer\"]:\n",
    "    df[col] = df[col].fillna(method=\"bfill\", limit=2)\n",
    "\n",
    "# For discharge and tp_catch, which have slightly larger gaps, fill with the median over the whole series\n",
    "for col in [\"q\", \"tp_catch\"]:\n",
    "    df[col] = df[col].fillna(df[col].median())"
   ]
  },
  {
   "cell_type": "markdown",
   "metadata": {},
   "source": [
    "How effective has this startegy been at filling NaNs?"
   ]
  },
  {
   "cell_type": "code",
   "execution_count": 41,
   "metadata": {},
   "outputs": [
    {
     "data": {
      "text/html": [
       "<div>\n",
       "<style scoped>\n",
       "    .dataframe tbody tr th:only-of-type {\n",
       "        vertical-align: middle;\n",
       "    }\n",
       "\n",
       "    .dataframe tbody tr th {\n",
       "        vertical-align: top;\n",
       "    }\n",
       "\n",
       "    .dataframe thead th {\n",
       "        text-align: right;\n",
       "    }\n",
       "</style>\n",
       "<table border=\"1\" class=\"dataframe\">\n",
       "  <thead>\n",
       "    <tr style=\"text-align: right;\">\n",
       "      <th></th>\n",
       "      <th>total</th>\n",
       "      <th>percent</th>\n",
       "    </tr>\n",
       "  </thead>\n",
       "  <tbody>\n",
       "    <tr>\n",
       "      <th>pptn</th>\n",
       "      <td>0</td>\n",
       "      <td>0.0</td>\n",
       "    </tr>\n",
       "    <tr>\n",
       "      <th>temp</th>\n",
       "      <td>0</td>\n",
       "      <td>0.0</td>\n",
       "    </tr>\n",
       "    <tr>\n",
       "      <th>temp_prevsummer</th>\n",
       "      <td>0</td>\n",
       "      <td>0.0</td>\n",
       "    </tr>\n",
       "    <tr>\n",
       "      <th>chl-a_lake_prevsummer</th>\n",
       "      <td>0</td>\n",
       "      <td>0.0</td>\n",
       "    </tr>\n",
       "    <tr>\n",
       "      <th>colour_lake_prevsummer</th>\n",
       "      <td>0</td>\n",
       "      <td>0.0</td>\n",
       "    </tr>\n",
       "    <tr>\n",
       "      <th>tp_lake_prevsummer</th>\n",
       "      <td>0</td>\n",
       "      <td>0.0</td>\n",
       "    </tr>\n",
       "    <tr>\n",
       "      <th>wind_over_q0.8_lag1</th>\n",
       "      <td>0</td>\n",
       "      <td>0.0</td>\n",
       "    </tr>\n",
       "    <tr>\n",
       "      <th>wind_over_q0.6_lag1</th>\n",
       "      <td>0</td>\n",
       "      <td>0.0</td>\n",
       "    </tr>\n",
       "    <tr>\n",
       "      <th>wind_under_q0.4_lag1</th>\n",
       "      <td>0</td>\n",
       "      <td>0.0</td>\n",
       "    </tr>\n",
       "    <tr>\n",
       "      <th>wind_under_q0.2_lag1</th>\n",
       "      <td>0</td>\n",
       "      <td>0.0</td>\n",
       "    </tr>\n",
       "  </tbody>\n",
       "</table>\n",
       "</div>"
      ],
      "text/plain": [
       "                        total  percent\n",
       "pptn                        0      0.0\n",
       "temp                        0      0.0\n",
       "temp_prevsummer             0      0.0\n",
       "chl-a_lake_prevsummer       0      0.0\n",
       "colour_lake_prevsummer      0      0.0\n",
       "tp_lake_prevsummer          0      0.0\n",
       "wind_over_q0.8_lag1         0      0.0\n",
       "wind_over_q0.6_lag1         0      0.0\n",
       "wind_under_q0.4_lag1        0      0.0\n",
       "wind_under_q0.2_lag1        0      0.0"
      ]
     },
     "execution_count": 41,
     "metadata": {},
     "output_type": "execute_result"
    }
   ],
   "source": [
    "# Pct missing\n",
    "missing = pd.DataFrame(df.isnull().sum()).rename(columns={0: \"total\"})\n",
    "missing[\"percent\"] = 100 * missing[\"total\"] / len(df)\n",
    "missing.sort_values(\"percent\", ascending=False).head(10)"
   ]
  },
  {
   "cell_type": "code",
   "execution_count": 42,
   "metadata": {},
   "outputs": [],
   "source": [
    "# df.plot(subplots=True, figsize=(15,20));"
   ]
  },
  {
   "cell_type": "markdown",
   "metadata": {},
   "source": [
    "# Random forest modelling"
   ]
  },
  {
   "cell_type": "markdown",
   "metadata": {},
   "source": [
    "## Drop any remaining NaNs"
   ]
  },
  {
   "cell_type": "code",
   "execution_count": 43,
   "metadata": {},
   "outputs": [
    {
     "name": "stdout",
     "output_type": "stream",
     "text": [
      "Length of original dataset: 23\n",
      "Length of trimmed dataset:  23\n"
     ]
    }
   ],
   "source": [
    "df2 = df.dropna(how='any')\n",
    "print('Length of original dataset:', len(df))\n",
    "print('Length of trimmed dataset: ', len(df2))"
   ]
  },
  {
   "cell_type": "code",
   "execution_count": 44,
   "metadata": {},
   "outputs": [
    {
     "name": "stdout",
     "output_type": "stream",
     "text": [
      "Number of features:29\n"
     ]
    }
   ],
   "source": [
    "# Define response vars (target variable defined at the start)\n",
    "exp_vars = [i for i in df2.columns if i != target_var]\n",
    "\n",
    "# Extract vars\n",
    "y = df2[target_var]\n",
    "X = df2[exp_vars]\n",
    "\n",
    "# Standardise exp vars\n",
    "scalar = StandardScaler()\n",
    "X_scaled = pd.DataFrame(scalar.fit_transform(X), index=X.index, columns=X.columns)\n",
    "\n",
    "print(\"Number of features:%s\" % len(exp_vars))"
   ]
  },
  {
   "cell_type": "markdown",
   "metadata": {},
   "source": [
    "## Fit model\n",
    "\n",
    "Random Forests use \"bootstrapping\" to partition the data used by each tree. Data not included in each bootstrap sample can therefore be used to perform \"internal\" validation, without the need for a holdout dataset as is usual for cross-validation. This approach is usually referred to as the \"out-of-bag\" (OOB) validation score. In sci-kit learn, this is roughly equivalent to $R^2$, but calculated on \"unseen\" data (as opposed to the less stringent \"within-sample\" $R^2$ typically reported for OLS regression).\n",
    "\n",
    "OOB scores are not *exactly* the same as cross-validation but, under typical circumstances, the OOB score should be roughly comparable to 3-fold CV (see e.g. [here](https://stats.stackexchange.com/a/199201/5467) and [here](https://stats.stackexchange.com/a/208018/5467) for some discussion). When using OOB scores, it is not necessary to split the data into training and testing sets, which is a big advantage when data are limited (as is the case here). Ideally, validation using a test set should also be performed, but for the work here I'm going to focus on OOB scores in order to make the most of limited data.\n",
    "\n",
    "Random Forests have a number of hyperparameters that can be tuned to improve performance. Of these, the most important seem to be `'n_estimators'` (the number of treesin the forest) and `'max_features'` (the size of the random subsets of features to consider when splitting a node). There is some debate about the best values to choose for `'max_features'`: the default for regression problems in sci-kit learn is `'max_features' = 'n_features'`, whereas in R the recommended value is to use about one third of the total number of features (see the comments on [this](https://stackoverflow.com/a/23950648/505698) post and the references in the documentation [here](https://scikit-learn.org/stable/modules/generated/sklearn.ensemble.RandomForestRegressor.html) for details).\n",
    "\n",
    "The code below (modified from [here](https://scikit-learn.org/stable/auto_examples/ensemble/plot_ensemble_oob.html)) plots the OOB error rate (= `1 - OOB_Score`) as a function of `'n_estimators'` for various choices for `'max_features'`. "
   ]
  },
  {
   "cell_type": "code",
   "execution_count": 45,
   "metadata": {},
   "outputs": [
    {
     "data": {
      "text/plain": [
       "<matplotlib.legend.Legend at 0x7fc8f2c07cd0>"
      ]
     },
     "execution_count": 45,
     "metadata": {},
     "output_type": "execute_result"
    },
    {
     "data": {
      "image/png": "[encoded data removed]",
      "text/plain": [
       "<Figure size 720x432 with 1 Axes>"
      ]
     },
     "metadata": {},
     "output_type": "display_data"
    }
   ],
   "source": [
    "# For reproducibility\n",
    "rand_state = 42\n",
    "\n",
    "# List classifiers of interest\n",
    "# NB: Setting the `warm_start=True` disables parallel support, but is necessary for\n",
    "# tracking the OOB error trajectory during training\n",
    "ensemble_clfs = [\n",
    "    (\n",
    "        \"RandomForestRegressor, max_features='sqrt'\",\n",
    "        RandomForestRegressor(\n",
    "            n_estimators=100,\n",
    "            warm_start=True,\n",
    "            oob_score=True,\n",
    "            max_features=\"sqrt\",\n",
    "            random_state=rand_state,\n",
    "        ),\n",
    "    ),\n",
    "    (\n",
    "        \"RandomForestRegressor, max_features='log2'\",\n",
    "        RandomForestRegressor(\n",
    "            n_estimators=100,\n",
    "            warm_start=True,\n",
    "            max_features=\"log2\",\n",
    "            oob_score=True,\n",
    "            random_state=rand_state,\n",
    "        ),\n",
    "    ),\n",
    "    (\n",
    "        \"RandomForestRegressor, max_features=None\",\n",
    "        RandomForestRegressor(\n",
    "            n_estimators=100,\n",
    "            warm_start=True,\n",
    "            max_features=None,  # Default. Uses all feats\n",
    "            oob_score=True,\n",
    "            random_state=rand_state,\n",
    "        ),\n",
    "    ),\n",
    "    (\n",
    "        \"RandomForestRegressor, max_features=0.33\",\n",
    "        RandomForestRegressor(\n",
    "            n_estimators=100,\n",
    "            warm_start=True,\n",
    "            max_features=0.33,  # Older recommendation. Used by R\n",
    "            oob_score=True,\n",
    "            random_state=rand_state,\n",
    "        ),\n",
    "    ),\n",
    "]\n",
    "\n",
    "# Map a classifier name to a list of (<n_estimators>, <error rate>) pairs\n",
    "error_rate = OrderedDict((label, []) for label, _ in ensemble_clfs)\n",
    "\n",
    "# Range of `n_estimators` values to explore\n",
    "min_estimators = 10\n",
    "max_estimators = 500\n",
    "\n",
    "for label, clf in ensemble_clfs:\n",
    "    for i in range(min_estimators, max_estimators + 1, 5):\n",
    "        clf.set_params(n_estimators=i)\n",
    "        clf.fit(X_scaled, y)\n",
    "\n",
    "        # Record the OOB error\n",
    "        oob_error = 1 - clf.oob_score_\n",
    "        error_rate[label].append((i, oob_error))\n",
    "\n",
    "# Generate the \"OOB error rate\" vs. \"n_estimators\" plot\n",
    "fig = plt.figure(figsize=(10, 6))\n",
    "for label, clf_err in error_rate.items():\n",
    "    xs, ys = zip(*clf_err)\n",
    "    plt.plot(xs, ys, label=label)\n",
    "\n",
    "plt.xlim(min_estimators, max_estimators)\n",
    "plt.xlabel(\"n_estimators\")\n",
    "plt.ylabel(\"OOB error rate\")\n",
    "plt.legend(loc=\"upper right\")"
   ]
  },
  {
   "cell_type": "markdown",
   "metadata": {},
   "source": [
    "To pick the best parameters to use in the models below, pick the curve in the above plot which has the lowest error rate, and pick n_estimators where the curve has flattened out or reached a minimum.\n",
    "\n",
    "## Feature importances"
   ]
  },
  {
   "cell_type": "code",
   "execution_count": 46,
   "metadata": {},
   "outputs": [
    {
     "name": "stdout",
     "output_type": "stream",
     "text": [
      "OOB score: 0.31\n"
     ]
    },
    {
     "data": {
      "text/html": [
       "<div>\n",
       "<style scoped>\n",
       "    .dataframe tbody tr th:only-of-type {\n",
       "        vertical-align: middle;\n",
       "    }\n",
       "\n",
       "    .dataframe tbody tr th {\n",
       "        vertical-align: top;\n",
       "    }\n",
       "\n",
       "    .dataframe thead th {\n",
       "        text-align: right;\n",
       "    }\n",
       "</style>\n",
       "<table border=\"1\" class=\"dataframe\">\n",
       "  <thead>\n",
       "    <tr style=\"text-align: right;\">\n",
       "      <th></th>\n",
       "      <th>importance</th>\n",
       "    </tr>\n",
       "  </thead>\n",
       "  <tbody>\n",
       "    <tr>\n",
       "      <th>chl-a_lake</th>\n",
       "      <td>0.142400</td>\n",
       "    </tr>\n",
       "    <tr>\n",
       "      <th>chl-a_lake_prevsummer</th>\n",
       "      <td>0.079972</td>\n",
       "    </tr>\n",
       "    <tr>\n",
       "      <th>colour_lake_prevsummer</th>\n",
       "      <td>0.065073</td>\n",
       "    </tr>\n",
       "    <tr>\n",
       "      <th>tp_lake_prevsummer</th>\n",
       "      <td>0.064213</td>\n",
       "    </tr>\n",
       "    <tr>\n",
       "      <th>tp_lake</th>\n",
       "      <td>0.060781</td>\n",
       "    </tr>\n",
       "    <tr>\n",
       "      <th>cyanobiovol_prevsummer</th>\n",
       "      <td>0.057080</td>\n",
       "    </tr>\n",
       "    <tr>\n",
       "      <th>wind_over_q0.6_lag1</th>\n",
       "      <td>0.054366</td>\n",
       "    </tr>\n",
       "    <tr>\n",
       "      <th>colour_lake</th>\n",
       "      <td>0.044182</td>\n",
       "    </tr>\n",
       "    <tr>\n",
       "      <th>tp_catch</th>\n",
       "      <td>0.035036</td>\n",
       "    </tr>\n",
       "    <tr>\n",
       "      <th>temp_prevsummer</th>\n",
       "      <td>0.031547</td>\n",
       "    </tr>\n",
       "  </tbody>\n",
       "</table>\n",
       "</div>"
      ],
      "text/plain": [
       "                        importance\n",
       "chl-a_lake                0.142400\n",
       "chl-a_lake_prevsummer     0.079972\n",
       "colour_lake_prevsummer    0.065073\n",
       "tp_lake_prevsummer        0.064213\n",
       "tp_lake                   0.060781\n",
       "cyanobiovol_prevsummer    0.057080\n",
       "wind_over_q0.6_lag1       0.054366\n",
       "colour_lake               0.044182\n",
       "tp_catch                  0.035036\n",
       "temp_prevsummer           0.031547"
      ]
     },
     "execution_count": 46,
     "metadata": {},
     "output_type": "execute_result"
    }
   ],
   "source": [
    "# Set based on graph above\n",
    "n_estimators = 120\n",
    "max_features = \"log2\"\n",
    "\n",
    "# Build model using 'best' results from above\n",
    "model = RandomForestRegressor(\n",
    "    n_estimators=n_estimators,\n",
    "    warm_start=False,\n",
    "    max_features=max_features,\n",
    "    oob_score=True,\n",
    "    random_state=rand_state,\n",
    ")\n",
    "model.fit(X_scaled, y)\n",
    "\n",
    "print(\"OOB score: %.2f\" % model.oob_score_)\n",
    "\n",
    "# Get importance scores\n",
    "res_df = pd.DataFrame(\n",
    "    {\"importance\": model.feature_importances_}, index=X.columns.values\n",
    ").sort_values(by=\"importance\", ascending=False)\n",
    "res_df.head(10)"
   ]
  },
  {
   "cell_type": "markdown",
   "metadata": {},
   "source": [
    "Looking at effect of choice of params: Seems pretty robust."
   ]
  },
  {
   "cell_type": "code",
   "execution_count": 47,
   "metadata": {},
   "outputs": [
    {
     "data": {
      "image/png": "[encoded data removed]",
      "text/plain": [
       "<Figure size 576x432 with 1 Axes>"
      ]
     },
     "metadata": {},
     "output_type": "display_data"
    }
   ],
   "source": [
    "# Plot top 10 feature importances\n",
    "ax = res_df[:10].plot(kind='bar', figsize=(8,6))\n",
    "plt.ylabel('Importance')\n",
    "ax.get_legend().remove()\n",
    "plt.title('cyano');\n",
    "plt.tight_layout()\n",
    "plt.savefig('../../Figures/FeatureImportance/cyano.png')"
   ]
  },
  {
   "cell_type": "markdown",
   "metadata": {},
   "source": [
    "# Recursive feature elimination\n",
    "\n",
    "Recursive feature elimination attempts to find the best model using subsets of the available features. This is essentially the same as \"stepwise\" regression, except here we're using CV to avoid overfitting (as opposed to traditional \"significance testing\"). In the code below, I've used out-of-sample $R^2$ as a measure of performance. The best values obtained are pretty low, but remember that out-of-sample tests are much more stringent than their within-sample equivalents. The best overall indicator of perfornmance used in this notebook is the OOB score.\n",
    "\n",
    "**Note:** Other scoring metrics are available. Use \n",
    "\n",
    "    sorted(sklearn.metrics.SCORERS.keys())\n",
    "    \n",
    "to print a list."
   ]
  },
  {
   "cell_type": "code",
   "execution_count": 48,
   "metadata": {},
   "outputs": [
    {
     "name": "stdout",
     "output_type": "stream",
     "text": [
      "Optimal number of features: 1\n",
      "\n",
      "Optimal features (in no particular order):\n",
      "   chl-a_lake\n"
     ]
    },
    {
     "name": "stderr",
     "output_type": "stream",
     "text": [
      "/opt/conda/lib/python3.9/site-packages/sklearn/utils/deprecation.py:103: FutureWarning: The `grid_scores_` attribute is deprecated in version 1.0 in favor of `cv_results_` and will be removed in version 1.2.\n",
      "  warnings.warn(msg, category=FutureWarning)\n"
     ]
    },
    {
     "data": {
      "text/plain": [
       "[<matplotlib.lines.Line2D at 0x7fc8f2b3b160>,\n",
       " <matplotlib.lines.Line2D at 0x7fc8f2b3b1c0>,\n",
       " <matplotlib.lines.Line2D at 0x7fc8f2b3b2e0>]"
      ]
     },
     "execution_count": 48,
     "metadata": {},
     "output_type": "execute_result"
    },
    {
     "data": {
      "image/png": "[encoded data removed]",
      "text/plain": [
       "<Figure size 720x432 with 1 Axes>"
      ]
     },
     "metadata": {},
     "output_type": "display_data"
    }
   ],
   "source": [
    "# Build same model as above\n",
    "model = RandomForestRegressor(\n",
    "    n_estimators=n_estimators,\n",
    "    warm_start=False,\n",
    "    max_features=max_features,\n",
    "    oob_score=True,\n",
    "    random_state=rand_state,\n",
    ")\n",
    "\n",
    "# Feature elimination with 3-fold CV\n",
    "rfecv = RFECV(estimator=model, step=1, cv=3, scoring=\"r2\", n_jobs=-1)\n",
    "\n",
    "selector = rfecv.fit(X_scaled, y)\n",
    "\n",
    "print(\"Optimal number of features: %d\" % rfecv.n_features_)\n",
    "print(\"\")\n",
    "print(\"Optimal features (in no particular order):\")\n",
    "for i in np.array(exp_vars)[selector.support_]:\n",
    "    print(\"  \", i)\n",
    "\n",
    "# Plot number of features vs. cross-validation score\n",
    "plt.figure(figsize=(10, 6))\n",
    "plt.xlabel(\"Number of features\")\n",
    "plt.ylabel(\"$R^2$\")\n",
    "plt.plot(range(1, len(rfecv.grid_scores_) + 1), rfecv.grid_scores_)"
   ]
  },
  {
   "cell_type": "markdown",
   "metadata": {},
   "source": [
    "Use the plot to decide roughly how many features to pick before things level off.\n",
    "\n",
    "**Find:** Best performance with just one feature (chl-a), decreasing thereafter. But results look dodgy."
   ]
  },
  {
   "cell_type": "code",
   "execution_count": 50,
   "metadata": {},
   "outputs": [
    {
     "name": "stdout",
     "output_type": "stream",
     "text": [
      "OOB score: 0.55\n"
     ]
    },
    {
     "data": {
      "text/html": [
       "<div>\n",
       "<style scoped>\n",
       "    .dataframe tbody tr th:only-of-type {\n",
       "        vertical-align: middle;\n",
       "    }\n",
       "\n",
       "    .dataframe tbody tr th {\n",
       "        vertical-align: top;\n",
       "    }\n",
       "\n",
       "    .dataframe thead th {\n",
       "        text-align: right;\n",
       "    }\n",
       "</style>\n",
       "<table border=\"1\" class=\"dataframe\">\n",
       "  <thead>\n",
       "    <tr style=\"text-align: right;\">\n",
       "      <th></th>\n",
       "      <th>importance</th>\n",
       "    </tr>\n",
       "  </thead>\n",
       "  <tbody>\n",
       "    <tr>\n",
       "      <th>chl-a_lake</th>\n",
       "      <td>0.625839</td>\n",
       "    </tr>\n",
       "    <tr>\n",
       "      <th>colour_lake</th>\n",
       "      <td>0.374161</td>\n",
       "    </tr>\n",
       "  </tbody>\n",
       "</table>\n",
       "</div>"
      ],
      "text/plain": [
       "             importance\n",
       "chl-a_lake     0.625839\n",
       "colour_lake    0.374161"
      ]
     },
     "execution_count": 50,
     "metadata": {},
     "output_type": "execute_result"
    }
   ],
   "source": [
    "# Reduce list of exp vars based on results above\n",
    "exp_vars_2 = [\n",
    "    \"chl-a_lake\",   # Optimum\n",
    "    \"colour_lake\",  # Proposed for BN\n",
    "]\n",
    "\n",
    "# Extract vars\n",
    "y = df2[target_var]\n",
    "X2 = df2[exp_vars_2]\n",
    "\n",
    "# Standardise exp vars\n",
    "scalar = StandardScaler()\n",
    "X2_scaled = pd.DataFrame(scalar.fit_transform(X2), index=X2.index, columns=X2.columns)\n",
    "\n",
    "# Build model using 'best' results from above\n",
    "model = RandomForestRegressor(\n",
    "    n_estimators=n_estimators,\n",
    "    warm_start=False,\n",
    "    max_features=max_features,\n",
    "    oob_score=True,\n",
    "    random_state=rand_state,\n",
    ")\n",
    "model.fit(X2_scaled, y)\n",
    "\n",
    "print(\"OOB score: %.2f\" % model.oob_score_)\n",
    "\n",
    "# Get importance scores\n",
    "res_df = pd.DataFrame(\n",
    "    {\"importance\": model.feature_importances_}, index=X2.columns.values\n",
    ").sort_values(by=\"importance\", ascending=False)\n",
    "res_df.head(10)"
   ]
  },
  {
   "cell_type": "markdown",
   "metadata": {},
   "source": [
    "**Comments**\n",
    "\n",
    "- Recursive feature elimination: Optimal features just 1, chl-a_lake. Big drop of after that to 2, 3, then levelling off after about 6 at a low.\n",
    "- OOB using just chl-a_lake: 0.35.\n",
    "- If add in anything colour-related, e.g. colour_prevsummer: OOB increases to 0.53, and both are important (chl-a_lake 0.55, colour_lake_prevsummer 0.45). i.e. better than when use all features.\n",
    "- Use current season’s colour instead of previous season’s colour, and chl-a: OOB 0.54. i.e. a bit better!\n",
    "- Try adding in any weather variables, e.g. temp: OOB 0.45 (worse, and temp importance lower than colour_lake), wind_under_q0.2 (same OOB of 0.54, wind importance 0.24, colour_lake 0.3, chl-a_lake 0.46)."
   ]
  },
  {
   "cell_type": "code",
   "execution_count": 58,
   "metadata": {},
   "outputs": [
    {
     "data": {
      "text/plain": [
       "<AxesSubplot:>"
      ]
     },
     "execution_count": 58,
     "metadata": {},
     "output_type": "execute_result"
    },
    {
     "data": {
      "image/png": "[encoded data removed]",
      "text/plain": [
       "<Figure size 432x216 with 1 Axes>"
      ]
     },
     "metadata": {},
     "output_type": "display_data"
    }
   ],
   "source": [
    "# Plot\n",
    "res_df[:15].plot(kind=\"bar\", figsize=(6, 3))"
   ]
  }
 ],
 "metadata": {
  "kernelspec": {
   "display_name": "Python 3 (ipykernel)",
   "language": "python",
   "name": "python3"
  },
  "language_info": {
   "codemirror_mode": {
    "name": "ipython",
    "version": 3
   },
   "file_extension": ".py",
   "mimetype": "text/x-python",
   "name": "python",
   "nbconvert_exporter": "python",
   "pygments_lexer": "ipython3",
   "version": "3.9.10"
  }
 },
 "nbformat": 4,
 "nbformat_minor": 4
}
