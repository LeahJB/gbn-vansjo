{
 "cells": [
  {
   "cell_type": "code",
   "execution_count": 48,
   "id": "462b41a4-5200-4cb6-ad9c-a526dbc470d9",
   "metadata": {},
   "outputs": [],
   "source": [
    "import os\n",
    "\n",
    "import matplotlib.pyplot as plt\n",
    "import numpy as np\n",
    "import pandas as pd\n",
    "\n",
    "# For a bit more data exploration\n",
    "import pygraphviz as pgv  # For regression trees\n",
    "from sklearn.tree import DecisionTreeRegressor  # Import Decision Tree Regressor\n",
    "from sklearn.tree import export_graphviz\n",
    "\n",
    "import seaborn as sns\n",
    "sns.set(style=\"ticks\", color_codes=True)\n",
    "\n",
    "%matplotlib inline"
   ]
  },
  {
   "cell_type": "markdown",
   "id": "74ea9d37-ae4b-4698-8103-203bd1e12075",
   "metadata": {},
   "source": [
    "# Introduction\n",
    "\n",
    "Discretize continuous data for discrete Bayesian Network development.\n",
    "\n",
    "Uses continuous data created in notebook 03_select_features_xval_setup.\n",
    "\n",
    "Created by Leah JB. Part of the ERA4CS WATExR project."
   ]
  },
  {
   "cell_type": "markdown",
   "id": "7e7e593f-0b22-486a-b905-87b641bddfdd",
   "metadata": {},
   "source": [
    "# User input"
   ]
  },
  {
   "cell_type": "code",
   "execution_count": 49,
   "id": "e8dd0d20-be17-49d5-aee0-79fae7b8554a",
   "metadata": {},
   "outputs": [],
   "source": [
    "# User input\n",
    "met_source = \"metno\"  # Only \"metno\" available here\n",
    "\n",
    "# File paths to input data\n",
    "cont_all_fpath = r\"../Data/DataMatrices/forCrossValidation/Untransformed/Vansjo_Seasonal_6M_Continuous_all.csv\"\n",
    "cont_cyano_colour_fpath = r\"../Data/DataMatrices/forCrossValidation/Untransformed/Vansjo_Seasonal_6M_Continuous_cyanoColour_allVars.csv\"\n",
    "cont_cyano_colour_directVars_fpath = r\"../Data/DataMatrices/forCrossValidation/Untransformed/Vansjo_Seasonal_6M_Continuous_cyanoColour_directVars.csv\"\n",
    "cont_df_noCyano_fpath = r\"../Data/DataMatrices/forCrossValidation/Untransformed/Vansjo_Seasonal_6M_Continuous_noCyano.csv\"\n",
    "\n",
    "# Output folders\n",
    "out_folder = r\"../Data/DataMatrices\"\n",
    "graph_outfolder = r\"../Figures\""
   ]
  },
  {
   "cell_type": "markdown",
   "id": "b6975814-5036-449e-8d38-3d694200ee68",
   "metadata": {},
   "source": [
    "# Read in continuous data"
   ]
  },
  {
   "cell_type": "code",
   "execution_count": 50,
   "id": "51bac7ee-d97a-465f-beeb-81ab87a16934",
   "metadata": {},
   "outputs": [],
   "source": [
    "cont_df = pd.read_csv(cont_all_fpath, index_col=0, parse_dates=True)\n",
    "cont_df_cyano_colour = pd.read_csv(cont_cyano_colour_fpath, index_col=0, parse_dates=True)\n",
    "cont_df_cyano_colour_directVars = pd.read_csv(cont_cyano_colour_directVars_fpath, index_col=0, parse_dates=True)\n",
    "cont_df_noCyano = pd.read_csv(cont_df_noCyano_fpath, index_col=0, parse_dates=True)"
   ]
  },
  {
   "cell_type": "markdown",
   "id": "a261b8ea-50a1-4f10-b139-8c4b7ed4c893",
   "metadata": {},
   "source": [
    "# Picking class boundaries: make regression trees\n",
    "\n",
    "The 3 response variables TP, chl-a and cyanobacteria will be discretized using WFD-relevant class boundaries. For lake colour, use the 66th percentile. For all the explanatory variables, we need to pick class boundaries to use. Do this using regression tree analysis primarily. I also plotted scatter plots, to make sure results looked sensible (code not included here)."
   ]
  },
  {
   "cell_type": "markdown",
   "id": "20355681-1fa7-41b4-bff3-5e7a3c34993a",
   "metadata": {},
   "source": [
    "## Regression trees"
   ]
  },
  {
   "cell_type": "code",
   "execution_count": 51,
   "id": "4b25cf4f-1cd0-4dbd-9977-ff0eedd28ce7",
   "metadata": {},
   "outputs": [],
   "source": [
    "# Dictionary with key = target var; returns list of potential explanatory vars\n",
    "xy_dict = {\n",
    "    \"TP\": [\"TP_prevSummer\", \"wind_speed\"],\n",
    "    \"colour\": [\"colour_prevSummer\", \"rain\"],\n",
    "    \"chla\": [\"TP\", \"chla_prevSummer\", \"wind_speed\"],\n",
    "    \"cyano\": [\"chla\", \"colour\"],\n",
    "}\n",
    "\n",
    "# Make regression trees, one for each pair of explanatory - dependent variable\n",
    "for targetvar in xy_dict.keys():\n",
    "    for xvar in xy_dict[targetvar]:\n",
    "        temp_df = cont_df[[targetvar] + [xvar]].dropna()\n",
    "        y = temp_df[targetvar].values  # Target variable data\n",
    "        y = y.reshape(-1, 1)\n",
    "        X = temp_df[xvar].values  # Explanatory var data\n",
    "        X = X.reshape(-1, 1)\n",
    "        regressor = DecisionTreeRegressor(\n",
    "            random_state=0,\n",
    "            max_depth=4,\n",
    "            min_samples_split=6,\n",
    "            min_samples_leaf=3,\n",
    "            max_leaf_nodes=8,\n",
    "        )\n",
    "        regressor.fit(X, y)\n",
    "\n",
    "        # export the decision tree to a tree.dot file for visualizing the plot anywhere\n",
    "        dot_fpath = os.path.join(\n",
    "            graph_outfolder,\n",
    "            \"Discretization_regTrees/DotFiles/6Mseasons_%s-%s.dot\"\n",
    "            % (targetvar, xvar),\n",
    "        )\n",
    "        export_graphviz(regressor, out_file=dot_fpath, feature_names=[xvar])\n",
    "\n",
    "        # Convert .dot file to .png\n",
    "        png_fpath = os.path.join(\n",
    "            graph_outfolder,\n",
    "            \"Discretization_regTrees/png/6MSeasons_%s-%s.png\"\n",
    "            % (targetvar, xvar),\n",
    "        )\n",
    "        pgv.AGraph(dot_fpath).draw(png_fpath, format=\"png\", prog=\"dot\")"
   ]
  },
  {
   "cell_type": "code",
   "execution_count": 52,
   "id": "14d67ce4-197f-4454-ab6d-6032111d152c",
   "metadata": {},
   "outputs": [
    {
     "name": "stdout",
     "output_type": "stream",
     "text": [
      "66th percentile for colour: 47.27\n"
     ]
    }
   ],
   "source": [
    "# For growing season colour, use 66th percentile rather than RT-derived value from lake colour - cyano relationship?\n",
    "for var in [\"colour\"]:\n",
    "    print(\"66th percentile for %s: %s\" % (var, cont_df[var].quantile(0.66)))"
   ]
  },
  {
   "cell_type": "code",
   "execution_count": 53,
   "id": "535d8034-ffc8-40ae-8b7a-0b138bd32352",
   "metadata": {},
   "outputs": [
    {
     "name": "stdout",
     "output_type": "stream",
     "text": [
      "33rd percentile for colour_prevSummer: 26.83583333356667\n",
      "66th percentile for colour_prevSummer: 47.27\n"
     ]
    }
   ],
   "source": [
    "# For the previous summer's colour, use terciles\n",
    "var = 'colour_prevSummer'\n",
    "print(\"33rd percentile for colour_prevSummer: %s\" % cont_df[var].quantile(0.33))\n",
    "print(\"66th percentile for colour_prevSummer: %s\" % cont_df[var].quantile(0.66))"
   ]
  },
  {
   "cell_type": "code",
   "execution_count": 54,
   "id": "fa66a52b-b23b-4c7b-9469-fba613a8a056",
   "metadata": {},
   "outputs": [
    {
     "name": "stdout",
     "output_type": "stream",
     "text": [
      "Median wind_speed: 3.5463618925831204\n"
     ]
    }
   ],
   "source": [
    "# For wind speed, no obvious step change on scatter plot, and regression tree-based boundary makes\n",
    "# unbalanced classes. Try just median instead\n",
    "\n",
    "for var in [\"wind_speed\"]:\n",
    "    print(\"Median %s: %s\" % (var, cont_df[var].quantile(0.5)))"
   ]
  },
  {
   "cell_type": "markdown",
   "id": "6fea4426-c346-456e-9c54-921d4598e71d",
   "metadata": {},
   "source": [
    "## Boundaries picked"
   ]
  },
  {
   "cell_type": "code",
   "execution_count": 55,
   "id": "2e0e3965-0fc4-4bf8-af35-c1a094d65af4",
   "metadata": {},
   "outputs": [
    {
     "data": {
      "text/plain": [
       "{'chla': [12.604585714285713, 17.583654571428575],\n",
       " 'chla_prevSummer': [12.63466666631, 17.583654571428575],\n",
       " 'colour': [27.549924603929046, 47.74483333333334],\n",
       " 'colour_prevSummer': [26.92525000035667, 47.74483333333334],\n",
       " 'cyano': [0.548996, 2.6439600000000003],\n",
       " 'rain': [461.907130299535, 557.66908511233],\n",
       " 'TP': [27.111024999999998, 31.32375],\n",
       " 'TP_prevSummer': [27.249075, 31.796437577639754],\n",
       " 'wind_speed': [3.482682608695652, 3.6583733695652176]}"
      ]
     },
     "execution_count": 55,
     "metadata": {},
     "output_type": "execute_result"
    }
   ],
   "source": [
    "bound_dict = {\n",
    "             'TP': [29.5],  # No data below 20, so drop this class boundary. 29.5 is middle of 'Mod' class\n",
    "             'TP_prevSummer': [31.8],  # From RT\n",
    "             'chla': [20.0],  # WFD boundaries: [10.5, 20.0]. But only 6 values under 10.5 so merge G and M classes.\n",
    "                              # For predicting cyano, would be better 17.4\n",
    "             'chla_prevSummer': [16.8],  # from RT\n",
    "             'colour': [47.3],  # 51.2: class purely for cyano prediction from RT, 47.3: 66th percentile used in GBN analysis\n",
    "             'colour_prevSummer': [26.8, 47.3],  # Terciles. Old: [32.6, 61.0],\n",
    "             'cyano': [1.0],  # M-P boundary is 2.0, but there were only 2 values in this class. Plenty above 2 tho.\n",
    "             'rain': [469],\n",
    "             'wind_speed': [3.55],  # [3.64] from regression tree (mean of TP and chla), but classes too unbalanced\n",
    "            }\n",
    "\n",
    "bound_dict_terciles = {}\n",
    "for var in cont_df.columns:\n",
    "    bound_dict_terciles[var] = [cont_df[var].quantile(0.333),\n",
    "                                cont_df[var].quantile(0.667)]\n",
    "bound_dict_terciles"
   ]
  },
  {
   "cell_type": "markdown",
   "id": "e9223688-4bfe-4101-b377-ece50072e971",
   "metadata": {},
   "source": [
    "## Histograms with boundaries\n",
    "\n",
    "Plot histograms of the data, with the chosen boundaries drawn on. Also plot simple terciles for comparison. The boundary choices look good."
   ]
  },
  {
   "cell_type": "code",
   "execution_count": 56,
   "id": "54c29f02-8dc3-4607-99a5-b8bc2baaaab3",
   "metadata": {},
   "outputs": [
    {
     "data": {
      "image/png": "[encoded data removed]",
      "text/plain": [
       "<Figure size 864x720 with 9 Axes>"
      ]
     },
     "metadata": {
      "needs_background": "light"
     },
     "output_type": "display_data"
    }
   ],
   "source": [
    "axes = cont_df.sort_index(axis=1).hist(bins=12, figsize=(12, 10), grid=False)\n",
    "\n",
    "# For each subplot, add on vertical lines for the proposed class boundaries\n",
    "# N.B. assumes order of plots is the same as the order of keys in bound_dict\n",
    "var_li = sorted(list(bound_dict.keys()))\n",
    "\n",
    "for i, ax in enumerate(axes.flatten()):\n",
    "    if i < 11:\n",
    "        lines = bound_dict[var_li[i]]\n",
    "        for line in lines:\n",
    "            ax.axvline(x=line, color='r')\n",
    "        tercile_lines = bound_dict_terciles[var_li[i]]\n",
    "        for tercLine in tercile_lines:\n",
    "            ax.axvline(x=tercLine, color='g')\n",
    "\n",
    "plt.show()"
   ]
  },
  {
   "cell_type": "markdown",
   "id": "08a686ad-68cc-41b8-9577-47c42f3addc1",
   "metadata": {},
   "source": [
    "# Discretize and write to csv"
   ]
  },
  {
   "cell_type": "code",
   "execution_count": 57,
   "id": "d540790b-c1bc-48ca-a6c3-be8cdb730391",
   "metadata": {},
   "outputs": [],
   "source": [
    "def discretize(thresholds, value):\n",
    "\n",
    "    if np.isnan(value):\n",
    "        return np.NaN\n",
    "\n",
    "    factor_li_dict = {\n",
    "        2: [\"L\", \"H\"],\n",
    "        3: [\"L\", \"M\", \"H\"],\n",
    "        4: [\"VL\", \"L\", \"M\", \"H\"],\n",
    "        5: [\"VL\", \"L\", \"M\", \"H\", \"VH\"],\n",
    "    }\n",
    "\n",
    "    n_classes = len(thresholds) + 1\n",
    "\n",
    "    for i, boundary in enumerate(thresholds):\n",
    "\n",
    "        if value < boundary:\n",
    "            return factor_li_dict[n_classes][i]\n",
    "            break  # Break out of loop\n",
    "\n",
    "        # If we're up to the last class boundary, and the value is bigger than it, value is in the uppermost class\n",
    "        if i + 1 == len(thresholds) and value >= boundary:\n",
    "            return factor_li_dict[n_classes][i + 1]"
   ]
  },
  {
   "cell_type": "code",
   "execution_count": 58,
   "id": "84339e98-a856-401e-807e-0388b4d3037b",
   "metadata": {},
   "outputs": [],
   "source": [
    "cont_df_li = [\n",
    "    cont_df,\n",
    "    cont_df_cyano_colour,\n",
    "    cont_df_cyano_colour_directVars,\n",
    "    cont_df_noCyano,\n",
    "]\n",
    "fname_suffix_li = [\"all\", \"cyano_colour_allVars\", \"cyano_colour_localVars\", \"noCyano\"]\n",
    "\n",
    "# Dictionary for storing different discretized dfs.\n",
    "# Key: data included (all data, all data from when cyano measured, just cyano-related vars, no cyano vars;\n",
    "# from fname_suffix_li). Returns discretized df based on WFD and regression-tree class boundaries\n",
    "disc_rt_dict = {}\n",
    "\n",
    "for i, df in enumerate(cont_df_li):\n",
    "\n",
    "    # Create empty dataframe to be populated with discretized data\n",
    "    disc_df = pd.DataFrame(index=df.index, columns=df.columns)\n",
    "\n",
    "    for var in df.columns:\n",
    "        disc_df[var] = df[var].apply(lambda x: discretize(bound_dict[var], x))\n",
    "\n",
    "    # Store in dictionary\n",
    "    disc_rt_dict[fname_suffix_li[i]] = disc_df\n",
    "\n",
    "    # Write to csv\n",
    "    fname = os.path.join(\n",
    "        out_folder,\n",
    "        \"Discretized/Discretized_RegTree_%s.csv\" % fname_suffix_li[i],\n",
    "    )\n",
    "    disc_df.to_csv(fname)"
   ]
  },
  {
   "cell_type": "code",
   "execution_count": 59,
   "id": "a2ff2a00-3056-4075-a1be-379b389c59fa",
   "metadata": {},
   "outputs": [
    {
     "data": {
      "image/png": "[encoded data removed]",
      "text/plain": [
       "<Figure size 720x504 with 9 Axes>"
      ]
     },
     "metadata": {
      "needs_background": "light"
     },
     "output_type": "display_data"
    }
   ],
   "source": [
    "# How balanced are the classes?\n",
    "\n",
    "# 1) All data and time\n",
    "disc_df = disc_rt_dict['all'].sort_index(axis=1)\n",
    "\n",
    "fig, ax = plt.subplots(2, 5, figsize=(10, 7))\n",
    "axs = ax.flatten()\n",
    "for i, categorical_feature in enumerate(disc_df.columns):\n",
    "    disc_df[categorical_feature].value_counts().plot(kind=\"bar\", ax=axs[i]).set_title(categorical_feature)\n",
    "\n",
    "fig.delaxes(axs[-1])\n",
    "plt.tight_layout()\n",
    "plt.savefig(os.path.join(graph_outfolder, 'Vansjø_discretized_wholePeriod_class-counts_%s.png' %met_source))"
   ]
  },
  {
   "cell_type": "code",
   "execution_count": 60,
   "id": "03a28a3a-c101-4b97-9284-447aeb66c4da",
   "metadata": {},
   "outputs": [
    {
     "data": {
      "image/png": "[encoded data removed]",
      "text/plain": [
       "<Figure size 720x504 with 9 Axes>"
      ]
     },
     "metadata": {
      "needs_background": "light"
     },
     "output_type": "display_data"
    }
   ],
   "source": [
    "# 2) Cyano df\n",
    "disc_df = disc_rt_dict['cyano_colour_allVars'].sort_index(axis=1)\n",
    "\n",
    "fig, ax = plt.subplots(2, 5, figsize=(10, 7))\n",
    "ax = ax.flatten()\n",
    "for i, categorical_feature in enumerate(disc_df.columns):\n",
    "    disc_df[categorical_feature].value_counts().plot(kind=\"bar\", ax=ax[i]).set_title(categorical_feature)\n",
    "\n",
    "fig.delaxes(ax[-1])\n",
    "plt.tight_layout()"
   ]
  },
  {
   "cell_type": "markdown",
   "id": "5f19bbb4-4b0b-4842-bb5e-afd60209775f",
   "metadata": {},
   "source": [
    "met.no wind speed and rain are very unbalanced for the post 1996 period. i.e. it was basically pretty calm and rainy relative to earlier. So we're just looking mostly at that step-change in these class breaks.\n",
    "\n",
    "Previous summer colour probably has too many classes too, the low class doesn't have many values. It will do for starters though."
   ]
  }
 ],
 "metadata": {
  "kernelspec": {
   "display_name": "Python 3 (ipykernel)",
   "language": "python",
   "name": "python3"
  },
  "language_info": {
   "codemirror_mode": {
    "name": "ipython",
    "version": 3
   },
   "file_extension": ".py",
   "mimetype": "text/x-python",
   "name": "python",
   "nbconvert_exporter": "python",
   "pygments_lexer": "ipython3",
   "version": "3.9.10"
  }
 },
 "nbformat": 4,
 "nbformat_minor": 5
}
